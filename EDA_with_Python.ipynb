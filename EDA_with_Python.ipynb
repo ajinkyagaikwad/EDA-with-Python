{
  "nbformat": 4,
  "nbformat_minor": 0,
  "metadata": {
    "colab": {
      "provenance": []
    },
    "kernelspec": {
      "name": "python3",
      "display_name": "Python 3"
    },
    "language_info": {
      "name": "python"
    }
  },
  "cells": [
    {
      "cell_type": "markdown",
      "source": [
        "# **Importing the necessary libraries**"
      ],
      "metadata": {
        "id": "Oa0afHxXRO99"
      }
    },
    {
      "cell_type": "code",
      "execution_count": null,
      "metadata": {
        "id": "WyWVuTqSyG3x"
      },
      "outputs": [],
      "source": [
        "import pandas as pd\n",
        "import numpy as np\n",
        "import matplotlib.pyplot as plt\n",
        "import seaborn as sns\n",
        "from datetime import datetime, date"
      ]
    },
    {
      "cell_type": "markdown",
      "source": [
        "# **Loading the data**"
      ],
      "metadata": {
        "id": "6Yq0UDRSRa2e"
      }
    },
    {
      "cell_type": "code",
      "source": [
        "data = pd.read_csv('ratings.csv')"
      ],
      "metadata": {
        "id": "6Hfcvxr9yVHl"
      },
      "execution_count": null,
      "outputs": []
    },
    {
      "cell_type": "code",
      "source": [
        "data.sample(3)"
      ],
      "metadata": {
        "colab": {
          "base_uri": "https://localhost:8080/",
          "height": 233
        },
        "id": "IY1u7UE6ylL8",
        "outputId": "0e55d487-0192-4aa7-c18c-7c17e9cca0d7"
      },
      "execution_count": null,
      "outputs": [
        {
          "output_type": "execute_result",
          "data": {
            "text/plain": [
              "         Const  Your Rating  Date Rated           Title  \\\n",
              "927  tt8852558            8    3/8/2020          Mitron   \n",
              "447  tt0252866            8   9/14/2019  American Pie 2   \n",
              "851  tt7618184            9  12/28/2018            Mulk   \n",
              "\n",
              "                                       URL Title Type  IMDb Rating  \\\n",
              "927  https://www.imdb.com/title/tt8852558/      movie          6.9   \n",
              "447  https://www.imdb.com/title/tt0252866/      movie          6.4   \n",
              "851  https://www.imdb.com/title/tt7618184/      movie          7.3   \n",
              "\n",
              "     Runtime (mins)  Year  Genres  Num Votes Release Date      Directors  \n",
              "927           119.0  2018  Comedy       2629    9/14/2018   Nitin Kakkar  \n",
              "447           108.0  2001  Comedy     265067     8/6/2001    J.B. Rogers  \n",
              "851           140.0  2018   Drama      21456     8/2/2018  Anubhav Sinha  "
            ],
            "text/html": [
              "\n",
              "  <div id=\"df-b28cfc3a-9c76-4ab2-9f84-734b56f0dd50\" class=\"colab-df-container\">\n",
              "    <div>\n",
              "<style scoped>\n",
              "    .dataframe tbody tr th:only-of-type {\n",
              "        vertical-align: middle;\n",
              "    }\n",
              "\n",
              "    .dataframe tbody tr th {\n",
              "        vertical-align: top;\n",
              "    }\n",
              "\n",
              "    .dataframe thead th {\n",
              "        text-align: right;\n",
              "    }\n",
              "</style>\n",
              "<table border=\"1\" class=\"dataframe\">\n",
              "  <thead>\n",
              "    <tr style=\"text-align: right;\">\n",
              "      <th></th>\n",
              "      <th>Const</th>\n",
              "      <th>Your Rating</th>\n",
              "      <th>Date Rated</th>\n",
              "      <th>Title</th>\n",
              "      <th>URL</th>\n",
              "      <th>Title Type</th>\n",
              "      <th>IMDb Rating</th>\n",
              "      <th>Runtime (mins)</th>\n",
              "      <th>Year</th>\n",
              "      <th>Genres</th>\n",
              "      <th>Num Votes</th>\n",
              "      <th>Release Date</th>\n",
              "      <th>Directors</th>\n",
              "    </tr>\n",
              "  </thead>\n",
              "  <tbody>\n",
              "    <tr>\n",
              "      <th>927</th>\n",
              "      <td>tt8852558</td>\n",
              "      <td>8</td>\n",
              "      <td>3/8/2020</td>\n",
              "      <td>Mitron</td>\n",
              "      <td>https://www.imdb.com/title/tt8852558/</td>\n",
              "      <td>movie</td>\n",
              "      <td>6.9</td>\n",
              "      <td>119.0</td>\n",
              "      <td>2018</td>\n",
              "      <td>Comedy</td>\n",
              "      <td>2629</td>\n",
              "      <td>9/14/2018</td>\n",
              "      <td>Nitin Kakkar</td>\n",
              "    </tr>\n",
              "    <tr>\n",
              "      <th>447</th>\n",
              "      <td>tt0252866</td>\n",
              "      <td>8</td>\n",
              "      <td>9/14/2019</td>\n",
              "      <td>American Pie 2</td>\n",
              "      <td>https://www.imdb.com/title/tt0252866/</td>\n",
              "      <td>movie</td>\n",
              "      <td>6.4</td>\n",
              "      <td>108.0</td>\n",
              "      <td>2001</td>\n",
              "      <td>Comedy</td>\n",
              "      <td>265067</td>\n",
              "      <td>8/6/2001</td>\n",
              "      <td>J.B. Rogers</td>\n",
              "    </tr>\n",
              "    <tr>\n",
              "      <th>851</th>\n",
              "      <td>tt7618184</td>\n",
              "      <td>9</td>\n",
              "      <td>12/28/2018</td>\n",
              "      <td>Mulk</td>\n",
              "      <td>https://www.imdb.com/title/tt7618184/</td>\n",
              "      <td>movie</td>\n",
              "      <td>7.3</td>\n",
              "      <td>140.0</td>\n",
              "      <td>2018</td>\n",
              "      <td>Drama</td>\n",
              "      <td>21456</td>\n",
              "      <td>8/2/2018</td>\n",
              "      <td>Anubhav Sinha</td>\n",
              "    </tr>\n",
              "  </tbody>\n",
              "</table>\n",
              "</div>\n",
              "    <div class=\"colab-df-buttons\">\n",
              "\n",
              "  <div class=\"colab-df-container\">\n",
              "    <button class=\"colab-df-convert\" onclick=\"convertToInteractive('df-b28cfc3a-9c76-4ab2-9f84-734b56f0dd50')\"\n",
              "            title=\"Convert this dataframe to an interactive table.\"\n",
              "            style=\"display:none;\">\n",
              "\n",
              "  <svg xmlns=\"http://www.w3.org/2000/svg\" height=\"24px\" viewBox=\"0 -960 960 960\">\n",
              "    <path d=\"M120-120v-720h720v720H120Zm60-500h600v-160H180v160Zm220 220h160v-160H400v160Zm0 220h160v-160H400v160ZM180-400h160v-160H180v160Zm440 0h160v-160H620v160ZM180-180h160v-160H180v160Zm440 0h160v-160H620v160Z\"/>\n",
              "  </svg>\n",
              "    </button>\n",
              "\n",
              "  <style>\n",
              "    .colab-df-container {\n",
              "      display:flex;\n",
              "      gap: 12px;\n",
              "    }\n",
              "\n",
              "    .colab-df-convert {\n",
              "      background-color: #E8F0FE;\n",
              "      border: none;\n",
              "      border-radius: 50%;\n",
              "      cursor: pointer;\n",
              "      display: none;\n",
              "      fill: #1967D2;\n",
              "      height: 32px;\n",
              "      padding: 0 0 0 0;\n",
              "      width: 32px;\n",
              "    }\n",
              "\n",
              "    .colab-df-convert:hover {\n",
              "      background-color: #E2EBFA;\n",
              "      box-shadow: 0px 1px 2px rgba(60, 64, 67, 0.3), 0px 1px 3px 1px rgba(60, 64, 67, 0.15);\n",
              "      fill: #174EA6;\n",
              "    }\n",
              "\n",
              "    .colab-df-buttons div {\n",
              "      margin-bottom: 4px;\n",
              "    }\n",
              "\n",
              "    [theme=dark] .colab-df-convert {\n",
              "      background-color: #3B4455;\n",
              "      fill: #D2E3FC;\n",
              "    }\n",
              "\n",
              "    [theme=dark] .colab-df-convert:hover {\n",
              "      background-color: #434B5C;\n",
              "      box-shadow: 0px 1px 3px 1px rgba(0, 0, 0, 0.15);\n",
              "      filter: drop-shadow(0px 1px 2px rgba(0, 0, 0, 0.3));\n",
              "      fill: #FFFFFF;\n",
              "    }\n",
              "  </style>\n",
              "\n",
              "    <script>\n",
              "      const buttonEl =\n",
              "        document.querySelector('#df-b28cfc3a-9c76-4ab2-9f84-734b56f0dd50 button.colab-df-convert');\n",
              "      buttonEl.style.display =\n",
              "        google.colab.kernel.accessAllowed ? 'block' : 'none';\n",
              "\n",
              "      async function convertToInteractive(key) {\n",
              "        const element = document.querySelector('#df-b28cfc3a-9c76-4ab2-9f84-734b56f0dd50');\n",
              "        const dataTable =\n",
              "          await google.colab.kernel.invokeFunction('convertToInteractive',\n",
              "                                                    [key], {});\n",
              "        if (!dataTable) return;\n",
              "\n",
              "        const docLinkHtml = 'Like what you see? Visit the ' +\n",
              "          '<a target=\"_blank\" href=https://colab.research.google.com/notebooks/data_table.ipynb>data table notebook</a>'\n",
              "          + ' to learn more about interactive tables.';\n",
              "        element.innerHTML = '';\n",
              "        dataTable['output_type'] = 'display_data';\n",
              "        await google.colab.output.renderOutput(dataTable, element);\n",
              "        const docLink = document.createElement('div');\n",
              "        docLink.innerHTML = docLinkHtml;\n",
              "        element.appendChild(docLink);\n",
              "      }\n",
              "    </script>\n",
              "  </div>\n",
              "\n",
              "\n",
              "<div id=\"df-9b5afd56-4a27-415b-ad84-e566bd53b7ee\">\n",
              "  <button class=\"colab-df-quickchart\" onclick=\"quickchart('df-9b5afd56-4a27-415b-ad84-e566bd53b7ee')\"\n",
              "            title=\"Suggest charts.\"\n",
              "            style=\"display:none;\">\n",
              "\n",
              "<svg xmlns=\"http://www.w3.org/2000/svg\" height=\"24px\"viewBox=\"0 0 24 24\"\n",
              "     width=\"24px\">\n",
              "    <g>\n",
              "        <path d=\"M19 3H5c-1.1 0-2 .9-2 2v14c0 1.1.9 2 2 2h14c1.1 0 2-.9 2-2V5c0-1.1-.9-2-2-2zM9 17H7v-7h2v7zm4 0h-2V7h2v10zm4 0h-2v-4h2v4z\"/>\n",
              "    </g>\n",
              "</svg>\n",
              "  </button>\n",
              "\n",
              "<style>\n",
              "  .colab-df-quickchart {\n",
              "      --bg-color: #E8F0FE;\n",
              "      --fill-color: #1967D2;\n",
              "      --hover-bg-color: #E2EBFA;\n",
              "      --hover-fill-color: #174EA6;\n",
              "      --disabled-fill-color: #AAA;\n",
              "      --disabled-bg-color: #DDD;\n",
              "  }\n",
              "\n",
              "  [theme=dark] .colab-df-quickchart {\n",
              "      --bg-color: #3B4455;\n",
              "      --fill-color: #D2E3FC;\n",
              "      --hover-bg-color: #434B5C;\n",
              "      --hover-fill-color: #FFFFFF;\n",
              "      --disabled-bg-color: #3B4455;\n",
              "      --disabled-fill-color: #666;\n",
              "  }\n",
              "\n",
              "  .colab-df-quickchart {\n",
              "    background-color: var(--bg-color);\n",
              "    border: none;\n",
              "    border-radius: 50%;\n",
              "    cursor: pointer;\n",
              "    display: none;\n",
              "    fill: var(--fill-color);\n",
              "    height: 32px;\n",
              "    padding: 0;\n",
              "    width: 32px;\n",
              "  }\n",
              "\n",
              "  .colab-df-quickchart:hover {\n",
              "    background-color: var(--hover-bg-color);\n",
              "    box-shadow: 0 1px 2px rgba(60, 64, 67, 0.3), 0 1px 3px 1px rgba(60, 64, 67, 0.15);\n",
              "    fill: var(--button-hover-fill-color);\n",
              "  }\n",
              "\n",
              "  .colab-df-quickchart-complete:disabled,\n",
              "  .colab-df-quickchart-complete:disabled:hover {\n",
              "    background-color: var(--disabled-bg-color);\n",
              "    fill: var(--disabled-fill-color);\n",
              "    box-shadow: none;\n",
              "  }\n",
              "\n",
              "  .colab-df-spinner {\n",
              "    border: 2px solid var(--fill-color);\n",
              "    border-color: transparent;\n",
              "    border-bottom-color: var(--fill-color);\n",
              "    animation:\n",
              "      spin 1s steps(1) infinite;\n",
              "  }\n",
              "\n",
              "  @keyframes spin {\n",
              "    0% {\n",
              "      border-color: transparent;\n",
              "      border-bottom-color: var(--fill-color);\n",
              "      border-left-color: var(--fill-color);\n",
              "    }\n",
              "    20% {\n",
              "      border-color: transparent;\n",
              "      border-left-color: var(--fill-color);\n",
              "      border-top-color: var(--fill-color);\n",
              "    }\n",
              "    30% {\n",
              "      border-color: transparent;\n",
              "      border-left-color: var(--fill-color);\n",
              "      border-top-color: var(--fill-color);\n",
              "      border-right-color: var(--fill-color);\n",
              "    }\n",
              "    40% {\n",
              "      border-color: transparent;\n",
              "      border-right-color: var(--fill-color);\n",
              "      border-top-color: var(--fill-color);\n",
              "    }\n",
              "    60% {\n",
              "      border-color: transparent;\n",
              "      border-right-color: var(--fill-color);\n",
              "    }\n",
              "    80% {\n",
              "      border-color: transparent;\n",
              "      border-right-color: var(--fill-color);\n",
              "      border-bottom-color: var(--fill-color);\n",
              "    }\n",
              "    90% {\n",
              "      border-color: transparent;\n",
              "      border-bottom-color: var(--fill-color);\n",
              "    }\n",
              "  }\n",
              "</style>\n",
              "\n",
              "  <script>\n",
              "    async function quickchart(key) {\n",
              "      const quickchartButtonEl =\n",
              "        document.querySelector('#' + key + ' button');\n",
              "      quickchartButtonEl.disabled = true;  // To prevent multiple clicks.\n",
              "      quickchartButtonEl.classList.add('colab-df-spinner');\n",
              "      try {\n",
              "        const charts = await google.colab.kernel.invokeFunction(\n",
              "            'suggestCharts', [key], {});\n",
              "      } catch (error) {\n",
              "        console.error('Error during call to suggestCharts:', error);\n",
              "      }\n",
              "      quickchartButtonEl.classList.remove('colab-df-spinner');\n",
              "      quickchartButtonEl.classList.add('colab-df-quickchart-complete');\n",
              "    }\n",
              "    (() => {\n",
              "      let quickchartButtonEl =\n",
              "        document.querySelector('#df-9b5afd56-4a27-415b-ad84-e566bd53b7ee button');\n",
              "      quickchartButtonEl.style.display =\n",
              "        google.colab.kernel.accessAllowed ? 'block' : 'none';\n",
              "    })();\n",
              "  </script>\n",
              "</div>\n",
              "    </div>\n",
              "  </div>\n"
            ]
          },
          "metadata": {},
          "execution_count": 177
        }
      ]
    },
    {
      "cell_type": "code",
      "source": [
        "imdb = data.copy()    #operations are performed on the copied dataframe, so that original data remains unchanged"
      ],
      "metadata": {
        "id": "1gfYrzSaynHF"
      },
      "execution_count": null,
      "outputs": []
    },
    {
      "cell_type": "code",
      "source": [
        "imdb.shape    #tuple of (number of rows,number of columns)"
      ],
      "metadata": {
        "colab": {
          "base_uri": "https://localhost:8080/"
        },
        "id": "_imVjHgmy5bx",
        "outputId": "473f7947-67ec-4cfb-f9c5-451bb9dc93a1"
      },
      "execution_count": null,
      "outputs": [
        {
          "output_type": "execute_result",
          "data": {
            "text/plain": [
              "(995, 13)"
            ]
          },
          "metadata": {},
          "execution_count": 179
        }
      ]
    },
    {
      "cell_type": "code",
      "source": [
        "imdb.info()   #information about non-null count and datatype"
      ],
      "metadata": {
        "colab": {
          "base_uri": "https://localhost:8080/"
        },
        "id": "aucnglmhy6-a",
        "outputId": "11abba5f-6dad-4493-f624-40b336e93199"
      },
      "execution_count": null,
      "outputs": [
        {
          "output_type": "stream",
          "name": "stdout",
          "text": [
            "<class 'pandas.core.frame.DataFrame'>\n",
            "RangeIndex: 995 entries, 0 to 994\n",
            "Data columns (total 13 columns):\n",
            " #   Column          Non-Null Count  Dtype  \n",
            "---  ------          --------------  -----  \n",
            " 0   Const           995 non-null    object \n",
            " 1   Your Rating     995 non-null    int64  \n",
            " 2   Date Rated      995 non-null    object \n",
            " 3   Title           995 non-null    object \n",
            " 4   URL             995 non-null    object \n",
            " 5   Title Type      995 non-null    object \n",
            " 6   IMDb Rating     995 non-null    float64\n",
            " 7   Runtime (mins)  986 non-null    float64\n",
            " 8   Year            995 non-null    int64  \n",
            " 9   Genres          995 non-null    object \n",
            " 10  Num Votes       995 non-null    int64  \n",
            " 11  Release Date    995 non-null    object \n",
            " 12  Directors       875 non-null    object \n",
            "dtypes: float64(2), int64(3), object(8)\n",
            "memory usage: 101.2+ KB\n"
          ]
        }
      ]
    },
    {
      "cell_type": "markdown",
      "source": [
        "# **Data Cleaning**"
      ],
      "metadata": {
        "id": "A7eifI9yR9q0"
      }
    },
    {
      "cell_type": "code",
      "source": [
        "imdb.drop(['URL'], axis=1, inplace= True)   #deleting the 'URL' column permanently"
      ],
      "metadata": {
        "id": "FengGzwHU1i1"
      },
      "execution_count": null,
      "outputs": []
    },
    {
      "cell_type": "code",
      "source": [
        "imdb.sample()"
      ],
      "metadata": {
        "colab": {
          "base_uri": "https://localhost:8080/",
          "height": 133
        },
        "id": "VO5I3KHnU_Ze",
        "outputId": "d53b7fb2-b8b3-4740-d8cc-5fb2fa02c631"
      },
      "execution_count": null,
      "outputs": [
        {
          "output_type": "execute_result",
          "data": {
            "text/plain": [
              "         Const  Your Rating Date Rated             Title Title Type  \\\n",
              "318  tt1790885            8  10/5/2016  Zero Dark Thirty      movie   \n",
              "\n",
              "     IMDb Rating  Runtime (mins)  Year                         Genres  \\\n",
              "318          7.4           157.0  2012  Drama, History, Thriller, War   \n",
              "\n",
              "     Num Votes Release Date        Directors  \n",
              "318     312203   12/10/2012  Kathryn Bigelow  "
            ],
            "text/html": [
              "\n",
              "  <div id=\"df-726dd470-7f8a-44f4-b531-cf71c5cb8460\" class=\"colab-df-container\">\n",
              "    <div>\n",
              "<style scoped>\n",
              "    .dataframe tbody tr th:only-of-type {\n",
              "        vertical-align: middle;\n",
              "    }\n",
              "\n",
              "    .dataframe tbody tr th {\n",
              "        vertical-align: top;\n",
              "    }\n",
              "\n",
              "    .dataframe thead th {\n",
              "        text-align: right;\n",
              "    }\n",
              "</style>\n",
              "<table border=\"1\" class=\"dataframe\">\n",
              "  <thead>\n",
              "    <tr style=\"text-align: right;\">\n",
              "      <th></th>\n",
              "      <th>Const</th>\n",
              "      <th>Your Rating</th>\n",
              "      <th>Date Rated</th>\n",
              "      <th>Title</th>\n",
              "      <th>Title Type</th>\n",
              "      <th>IMDb Rating</th>\n",
              "      <th>Runtime (mins)</th>\n",
              "      <th>Year</th>\n",
              "      <th>Genres</th>\n",
              "      <th>Num Votes</th>\n",
              "      <th>Release Date</th>\n",
              "      <th>Directors</th>\n",
              "    </tr>\n",
              "  </thead>\n",
              "  <tbody>\n",
              "    <tr>\n",
              "      <th>318</th>\n",
              "      <td>tt1790885</td>\n",
              "      <td>8</td>\n",
              "      <td>10/5/2016</td>\n",
              "      <td>Zero Dark Thirty</td>\n",
              "      <td>movie</td>\n",
              "      <td>7.4</td>\n",
              "      <td>157.0</td>\n",
              "      <td>2012</td>\n",
              "      <td>Drama, History, Thriller, War</td>\n",
              "      <td>312203</td>\n",
              "      <td>12/10/2012</td>\n",
              "      <td>Kathryn Bigelow</td>\n",
              "    </tr>\n",
              "  </tbody>\n",
              "</table>\n",
              "</div>\n",
              "    <div class=\"colab-df-buttons\">\n",
              "\n",
              "  <div class=\"colab-df-container\">\n",
              "    <button class=\"colab-df-convert\" onclick=\"convertToInteractive('df-726dd470-7f8a-44f4-b531-cf71c5cb8460')\"\n",
              "            title=\"Convert this dataframe to an interactive table.\"\n",
              "            style=\"display:none;\">\n",
              "\n",
              "  <svg xmlns=\"http://www.w3.org/2000/svg\" height=\"24px\" viewBox=\"0 -960 960 960\">\n",
              "    <path d=\"M120-120v-720h720v720H120Zm60-500h600v-160H180v160Zm220 220h160v-160H400v160Zm0 220h160v-160H400v160ZM180-400h160v-160H180v160Zm440 0h160v-160H620v160ZM180-180h160v-160H180v160Zm440 0h160v-160H620v160Z\"/>\n",
              "  </svg>\n",
              "    </button>\n",
              "\n",
              "  <style>\n",
              "    .colab-df-container {\n",
              "      display:flex;\n",
              "      gap: 12px;\n",
              "    }\n",
              "\n",
              "    .colab-df-convert {\n",
              "      background-color: #E8F0FE;\n",
              "      border: none;\n",
              "      border-radius: 50%;\n",
              "      cursor: pointer;\n",
              "      display: none;\n",
              "      fill: #1967D2;\n",
              "      height: 32px;\n",
              "      padding: 0 0 0 0;\n",
              "      width: 32px;\n",
              "    }\n",
              "\n",
              "    .colab-df-convert:hover {\n",
              "      background-color: #E2EBFA;\n",
              "      box-shadow: 0px 1px 2px rgba(60, 64, 67, 0.3), 0px 1px 3px 1px rgba(60, 64, 67, 0.15);\n",
              "      fill: #174EA6;\n",
              "    }\n",
              "\n",
              "    .colab-df-buttons div {\n",
              "      margin-bottom: 4px;\n",
              "    }\n",
              "\n",
              "    [theme=dark] .colab-df-convert {\n",
              "      background-color: #3B4455;\n",
              "      fill: #D2E3FC;\n",
              "    }\n",
              "\n",
              "    [theme=dark] .colab-df-convert:hover {\n",
              "      background-color: #434B5C;\n",
              "      box-shadow: 0px 1px 3px 1px rgba(0, 0, 0, 0.15);\n",
              "      filter: drop-shadow(0px 1px 2px rgba(0, 0, 0, 0.3));\n",
              "      fill: #FFFFFF;\n",
              "    }\n",
              "  </style>\n",
              "\n",
              "    <script>\n",
              "      const buttonEl =\n",
              "        document.querySelector('#df-726dd470-7f8a-44f4-b531-cf71c5cb8460 button.colab-df-convert');\n",
              "      buttonEl.style.display =\n",
              "        google.colab.kernel.accessAllowed ? 'block' : 'none';\n",
              "\n",
              "      async function convertToInteractive(key) {\n",
              "        const element = document.querySelector('#df-726dd470-7f8a-44f4-b531-cf71c5cb8460');\n",
              "        const dataTable =\n",
              "          await google.colab.kernel.invokeFunction('convertToInteractive',\n",
              "                                                    [key], {});\n",
              "        if (!dataTable) return;\n",
              "\n",
              "        const docLinkHtml = 'Like what you see? Visit the ' +\n",
              "          '<a target=\"_blank\" href=https://colab.research.google.com/notebooks/data_table.ipynb>data table notebook</a>'\n",
              "          + ' to learn more about interactive tables.';\n",
              "        element.innerHTML = '';\n",
              "        dataTable['output_type'] = 'display_data';\n",
              "        await google.colab.output.renderOutput(dataTable, element);\n",
              "        const docLink = document.createElement('div');\n",
              "        docLink.innerHTML = docLinkHtml;\n",
              "        element.appendChild(docLink);\n",
              "      }\n",
              "    </script>\n",
              "  </div>\n",
              "\n",
              "    </div>\n",
              "  </div>\n"
            ]
          },
          "metadata": {},
          "execution_count": 182
        }
      ]
    },
    {
      "cell_type": "code",
      "source": [
        "imdb.rename(columns= {'Const':'Id'}, inplace=True)"
      ],
      "metadata": {
        "id": "M63l01FKVI7Z"
      },
      "execution_count": null,
      "outputs": []
    },
    {
      "cell_type": "code",
      "source": [
        "imdb.sample()"
      ],
      "metadata": {
        "colab": {
          "base_uri": "https://localhost:8080/",
          "height": 133
        },
        "id": "EtE39NWFVMkQ",
        "outputId": "3b1b73f2-93a2-4cfb-ac01-6dbf12897fc4"
      },
      "execution_count": null,
      "outputs": [
        {
          "output_type": "execute_result",
          "data": {
            "text/plain": [
              "            Id  Your Rating Date Rated Title Title Type  IMDb Rating  \\\n",
              "849  tt7581552            8   8/5/2019  Unda      movie          7.7   \n",
              "\n",
              "     Runtime (mins)  Year                    Genres  Num Votes Release Date  \\\n",
              "849           130.0  2019  Action, Comedy, Thriller       4430    6/14/2019   \n",
              "\n",
              "         Directors  \n",
              "849  Khalid Rahman  "
            ],
            "text/html": [
              "\n",
              "  <div id=\"df-fd711093-e8b5-4e4c-ae44-2f3875b7e6eb\" class=\"colab-df-container\">\n",
              "    <div>\n",
              "<style scoped>\n",
              "    .dataframe tbody tr th:only-of-type {\n",
              "        vertical-align: middle;\n",
              "    }\n",
              "\n",
              "    .dataframe tbody tr th {\n",
              "        vertical-align: top;\n",
              "    }\n",
              "\n",
              "    .dataframe thead th {\n",
              "        text-align: right;\n",
              "    }\n",
              "</style>\n",
              "<table border=\"1\" class=\"dataframe\">\n",
              "  <thead>\n",
              "    <tr style=\"text-align: right;\">\n",
              "      <th></th>\n",
              "      <th>Id</th>\n",
              "      <th>Your Rating</th>\n",
              "      <th>Date Rated</th>\n",
              "      <th>Title</th>\n",
              "      <th>Title Type</th>\n",
              "      <th>IMDb Rating</th>\n",
              "      <th>Runtime (mins)</th>\n",
              "      <th>Year</th>\n",
              "      <th>Genres</th>\n",
              "      <th>Num Votes</th>\n",
              "      <th>Release Date</th>\n",
              "      <th>Directors</th>\n",
              "    </tr>\n",
              "  </thead>\n",
              "  <tbody>\n",
              "    <tr>\n",
              "      <th>849</th>\n",
              "      <td>tt7581552</td>\n",
              "      <td>8</td>\n",
              "      <td>8/5/2019</td>\n",
              "      <td>Unda</td>\n",
              "      <td>movie</td>\n",
              "      <td>7.7</td>\n",
              "      <td>130.0</td>\n",
              "      <td>2019</td>\n",
              "      <td>Action, Comedy, Thriller</td>\n",
              "      <td>4430</td>\n",
              "      <td>6/14/2019</td>\n",
              "      <td>Khalid Rahman</td>\n",
              "    </tr>\n",
              "  </tbody>\n",
              "</table>\n",
              "</div>\n",
              "    <div class=\"colab-df-buttons\">\n",
              "\n",
              "  <div class=\"colab-df-container\">\n",
              "    <button class=\"colab-df-convert\" onclick=\"convertToInteractive('df-fd711093-e8b5-4e4c-ae44-2f3875b7e6eb')\"\n",
              "            title=\"Convert this dataframe to an interactive table.\"\n",
              "            style=\"display:none;\">\n",
              "\n",
              "  <svg xmlns=\"http://www.w3.org/2000/svg\" height=\"24px\" viewBox=\"0 -960 960 960\">\n",
              "    <path d=\"M120-120v-720h720v720H120Zm60-500h600v-160H180v160Zm220 220h160v-160H400v160Zm0 220h160v-160H400v160ZM180-400h160v-160H180v160Zm440 0h160v-160H620v160ZM180-180h160v-160H180v160Zm440 0h160v-160H620v160Z\"/>\n",
              "  </svg>\n",
              "    </button>\n",
              "\n",
              "  <style>\n",
              "    .colab-df-container {\n",
              "      display:flex;\n",
              "      gap: 12px;\n",
              "    }\n",
              "\n",
              "    .colab-df-convert {\n",
              "      background-color: #E8F0FE;\n",
              "      border: none;\n",
              "      border-radius: 50%;\n",
              "      cursor: pointer;\n",
              "      display: none;\n",
              "      fill: #1967D2;\n",
              "      height: 32px;\n",
              "      padding: 0 0 0 0;\n",
              "      width: 32px;\n",
              "    }\n",
              "\n",
              "    .colab-df-convert:hover {\n",
              "      background-color: #E2EBFA;\n",
              "      box-shadow: 0px 1px 2px rgba(60, 64, 67, 0.3), 0px 1px 3px 1px rgba(60, 64, 67, 0.15);\n",
              "      fill: #174EA6;\n",
              "    }\n",
              "\n",
              "    .colab-df-buttons div {\n",
              "      margin-bottom: 4px;\n",
              "    }\n",
              "\n",
              "    [theme=dark] .colab-df-convert {\n",
              "      background-color: #3B4455;\n",
              "      fill: #D2E3FC;\n",
              "    }\n",
              "\n",
              "    [theme=dark] .colab-df-convert:hover {\n",
              "      background-color: #434B5C;\n",
              "      box-shadow: 0px 1px 3px 1px rgba(0, 0, 0, 0.15);\n",
              "      filter: drop-shadow(0px 1px 2px rgba(0, 0, 0, 0.3));\n",
              "      fill: #FFFFFF;\n",
              "    }\n",
              "  </style>\n",
              "\n",
              "    <script>\n",
              "      const buttonEl =\n",
              "        document.querySelector('#df-fd711093-e8b5-4e4c-ae44-2f3875b7e6eb button.colab-df-convert');\n",
              "      buttonEl.style.display =\n",
              "        google.colab.kernel.accessAllowed ? 'block' : 'none';\n",
              "\n",
              "      async function convertToInteractive(key) {\n",
              "        const element = document.querySelector('#df-fd711093-e8b5-4e4c-ae44-2f3875b7e6eb');\n",
              "        const dataTable =\n",
              "          await google.colab.kernel.invokeFunction('convertToInteractive',\n",
              "                                                    [key], {});\n",
              "        if (!dataTable) return;\n",
              "\n",
              "        const docLinkHtml = 'Like what you see? Visit the ' +\n",
              "          '<a target=\"_blank\" href=https://colab.research.google.com/notebooks/data_table.ipynb>data table notebook</a>'\n",
              "          + ' to learn more about interactive tables.';\n",
              "        element.innerHTML = '';\n",
              "        dataTable['output_type'] = 'display_data';\n",
              "        await google.colab.output.renderOutput(dataTable, element);\n",
              "        const docLink = document.createElement('div');\n",
              "        docLink.innerHTML = docLinkHtml;\n",
              "        element.appendChild(docLink);\n",
              "      }\n",
              "    </script>\n",
              "  </div>\n",
              "\n",
              "    </div>\n",
              "  </div>\n"
            ]
          },
          "metadata": {},
          "execution_count": 184
        }
      ]
    },
    {
      "cell_type": "code",
      "source": [
        "imdb.drop(['Release Date'], axis=1, inplace= True)    #Deleting the 'Release Date' column permanently"
      ],
      "metadata": {
        "id": "ADGa-yglVXdz"
      },
      "execution_count": null,
      "outputs": []
    },
    {
      "cell_type": "code",
      "source": [
        "imdb.sample()"
      ],
      "metadata": {
        "colab": {
          "base_uri": "https://localhost:8080/",
          "height": 115
        },
        "id": "BY-ad4zXVZNq",
        "outputId": "83e47180-22f6-4297-9c00-960b0a5d3a7c"
      },
      "execution_count": null,
      "outputs": [
        {
          "output_type": "execute_result",
          "data": {
            "text/plain": [
              "             Id  Your Rating Date Rated                          Title  \\\n",
              "235  tt14418234            9   7/9/2021  State of Siege: Temple Attack   \n",
              "\n",
              "    Title Type  IMDb Rating  Runtime (mins)  Year            Genres  \\\n",
              "235      movie          7.7           110.0  2021  Action, Thriller   \n",
              "\n",
              "     Num Votes  Directors  \n",
              "235       9577  Ken Ghosh  "
            ],
            "text/html": [
              "\n",
              "  <div id=\"df-82e9c9d5-491a-4356-9f2f-d29898dbe52a\" class=\"colab-df-container\">\n",
              "    <div>\n",
              "<style scoped>\n",
              "    .dataframe tbody tr th:only-of-type {\n",
              "        vertical-align: middle;\n",
              "    }\n",
              "\n",
              "    .dataframe tbody tr th {\n",
              "        vertical-align: top;\n",
              "    }\n",
              "\n",
              "    .dataframe thead th {\n",
              "        text-align: right;\n",
              "    }\n",
              "</style>\n",
              "<table border=\"1\" class=\"dataframe\">\n",
              "  <thead>\n",
              "    <tr style=\"text-align: right;\">\n",
              "      <th></th>\n",
              "      <th>Id</th>\n",
              "      <th>Your Rating</th>\n",
              "      <th>Date Rated</th>\n",
              "      <th>Title</th>\n",
              "      <th>Title Type</th>\n",
              "      <th>IMDb Rating</th>\n",
              "      <th>Runtime (mins)</th>\n",
              "      <th>Year</th>\n",
              "      <th>Genres</th>\n",
              "      <th>Num Votes</th>\n",
              "      <th>Directors</th>\n",
              "    </tr>\n",
              "  </thead>\n",
              "  <tbody>\n",
              "    <tr>\n",
              "      <th>235</th>\n",
              "      <td>tt14418234</td>\n",
              "      <td>9</td>\n",
              "      <td>7/9/2021</td>\n",
              "      <td>State of Siege: Temple Attack</td>\n",
              "      <td>movie</td>\n",
              "      <td>7.7</td>\n",
              "      <td>110.0</td>\n",
              "      <td>2021</td>\n",
              "      <td>Action, Thriller</td>\n",
              "      <td>9577</td>\n",
              "      <td>Ken Ghosh</td>\n",
              "    </tr>\n",
              "  </tbody>\n",
              "</table>\n",
              "</div>\n",
              "    <div class=\"colab-df-buttons\">\n",
              "\n",
              "  <div class=\"colab-df-container\">\n",
              "    <button class=\"colab-df-convert\" onclick=\"convertToInteractive('df-82e9c9d5-491a-4356-9f2f-d29898dbe52a')\"\n",
              "            title=\"Convert this dataframe to an interactive table.\"\n",
              "            style=\"display:none;\">\n",
              "\n",
              "  <svg xmlns=\"http://www.w3.org/2000/svg\" height=\"24px\" viewBox=\"0 -960 960 960\">\n",
              "    <path d=\"M120-120v-720h720v720H120Zm60-500h600v-160H180v160Zm220 220h160v-160H400v160Zm0 220h160v-160H400v160ZM180-400h160v-160H180v160Zm440 0h160v-160H620v160ZM180-180h160v-160H180v160Zm440 0h160v-160H620v160Z\"/>\n",
              "  </svg>\n",
              "    </button>\n",
              "\n",
              "  <style>\n",
              "    .colab-df-container {\n",
              "      display:flex;\n",
              "      gap: 12px;\n",
              "    }\n",
              "\n",
              "    .colab-df-convert {\n",
              "      background-color: #E8F0FE;\n",
              "      border: none;\n",
              "      border-radius: 50%;\n",
              "      cursor: pointer;\n",
              "      display: none;\n",
              "      fill: #1967D2;\n",
              "      height: 32px;\n",
              "      padding: 0 0 0 0;\n",
              "      width: 32px;\n",
              "    }\n",
              "\n",
              "    .colab-df-convert:hover {\n",
              "      background-color: #E2EBFA;\n",
              "      box-shadow: 0px 1px 2px rgba(60, 64, 67, 0.3), 0px 1px 3px 1px rgba(60, 64, 67, 0.15);\n",
              "      fill: #174EA6;\n",
              "    }\n",
              "\n",
              "    .colab-df-buttons div {\n",
              "      margin-bottom: 4px;\n",
              "    }\n",
              "\n",
              "    [theme=dark] .colab-df-convert {\n",
              "      background-color: #3B4455;\n",
              "      fill: #D2E3FC;\n",
              "    }\n",
              "\n",
              "    [theme=dark] .colab-df-convert:hover {\n",
              "      background-color: #434B5C;\n",
              "      box-shadow: 0px 1px 3px 1px rgba(0, 0, 0, 0.15);\n",
              "      filter: drop-shadow(0px 1px 2px rgba(0, 0, 0, 0.3));\n",
              "      fill: #FFFFFF;\n",
              "    }\n",
              "  </style>\n",
              "\n",
              "    <script>\n",
              "      const buttonEl =\n",
              "        document.querySelector('#df-82e9c9d5-491a-4356-9f2f-d29898dbe52a button.colab-df-convert');\n",
              "      buttonEl.style.display =\n",
              "        google.colab.kernel.accessAllowed ? 'block' : 'none';\n",
              "\n",
              "      async function convertToInteractive(key) {\n",
              "        const element = document.querySelector('#df-82e9c9d5-491a-4356-9f2f-d29898dbe52a');\n",
              "        const dataTable =\n",
              "          await google.colab.kernel.invokeFunction('convertToInteractive',\n",
              "                                                    [key], {});\n",
              "        if (!dataTable) return;\n",
              "\n",
              "        const docLinkHtml = 'Like what you see? Visit the ' +\n",
              "          '<a target=\"_blank\" href=https://colab.research.google.com/notebooks/data_table.ipynb>data table notebook</a>'\n",
              "          + ' to learn more about interactive tables.';\n",
              "        element.innerHTML = '';\n",
              "        dataTable['output_type'] = 'display_data';\n",
              "        await google.colab.output.renderOutput(dataTable, element);\n",
              "        const docLink = document.createElement('div');\n",
              "        docLink.innerHTML = docLinkHtml;\n",
              "        element.appendChild(docLink);\n",
              "      }\n",
              "    </script>\n",
              "  </div>\n",
              "\n",
              "    </div>\n",
              "  </div>\n"
            ]
          },
          "metadata": {},
          "execution_count": 186
        }
      ]
    },
    {
      "cell_type": "code",
      "source": [
        "imdb['Runtime (mins)'].fillna(45, inplace=True)   #handling the null values in the 'Runtime (mins)' columns with value based on domain knowledge"
      ],
      "metadata": {
        "id": "lxuxb1e1Vpc8"
      },
      "execution_count": null,
      "outputs": []
    },
    {
      "cell_type": "code",
      "source": [
        "imdb['Directors'] = imdb['Directors'].fillna('Not Available')   #handle null values in 'Directors' column by replacing with 'Not Available'"
      ],
      "metadata": {
        "id": "H8o-ioa7V731"
      },
      "execution_count": null,
      "outputs": []
    },
    {
      "cell_type": "code",
      "source": [
        "imdb.info()"
      ],
      "metadata": {
        "colab": {
          "base_uri": "https://localhost:8080/"
        },
        "id": "6A0GvdIvVrbe",
        "outputId": "6ff438b3-ecaa-4aeb-e4f4-5973d87cea5d"
      },
      "execution_count": null,
      "outputs": [
        {
          "output_type": "stream",
          "name": "stdout",
          "text": [
            "<class 'pandas.core.frame.DataFrame'>\n",
            "RangeIndex: 995 entries, 0 to 994\n",
            "Data columns (total 11 columns):\n",
            " #   Column          Non-Null Count  Dtype  \n",
            "---  ------          --------------  -----  \n",
            " 0   Id              995 non-null    object \n",
            " 1   Your Rating     995 non-null    int64  \n",
            " 2   Date Rated      995 non-null    object \n",
            " 3   Title           995 non-null    object \n",
            " 4   Title Type      995 non-null    object \n",
            " 5   IMDb Rating     995 non-null    float64\n",
            " 6   Runtime (mins)  995 non-null    float64\n",
            " 7   Year            995 non-null    int64  \n",
            " 8   Genres          995 non-null    object \n",
            " 9   Num Votes       995 non-null    int64  \n",
            " 10  Directors       995 non-null    object \n",
            "dtypes: float64(2), int64(3), object(6)\n",
            "memory usage: 85.6+ KB\n"
          ]
        }
      ]
    },
    {
      "cell_type": "code",
      "source": [
        "imdb.isnull().sum()   #checking for null values"
      ],
      "metadata": {
        "colab": {
          "base_uri": "https://localhost:8080/"
        },
        "id": "oKI56FRqWAr_",
        "outputId": "31136b01-8578-4eb2-a74c-61d9bb2595b6"
      },
      "execution_count": null,
      "outputs": [
        {
          "output_type": "execute_result",
          "data": {
            "text/plain": [
              "Id                0\n",
              "Your Rating       0\n",
              "Date Rated        0\n",
              "Title             0\n",
              "Title Type        0\n",
              "IMDb Rating       0\n",
              "Runtime (mins)    0\n",
              "Year              0\n",
              "Genres            0\n",
              "Num Votes         0\n",
              "Directors         0\n",
              "dtype: int64"
            ]
          },
          "metadata": {},
          "execution_count": 191
        }
      ]
    },
    {
      "cell_type": "markdown",
      "source": [
        "# **Exploratory Data Analysis (EDA)**"
      ],
      "metadata": {
        "id": "LrtXoTTuS11B"
      }
    },
    {
      "cell_type": "code",
      "source": [
        "imdb.describe()   #for basic analysis"
      ],
      "metadata": {
        "colab": {
          "base_uri": "https://localhost:8080/",
          "height": 300
        },
        "id": "adHsWOjnWKze",
        "outputId": "81cba555-c6a2-457c-dc33-dcfed3bd76f9"
      },
      "execution_count": null,
      "outputs": [
        {
          "output_type": "execute_result",
          "data": {
            "text/plain": [
              "       Your Rating  IMDb Rating  Runtime (mins)         Year     Num Votes\n",
              "count   995.000000   995.000000      995.000000   995.000000  9.950000e+02\n",
              "mean      8.218090     7.336181      127.958794  2013.640201  2.066674e+05\n",
              "std       1.343317     1.060057       46.731018     7.884554  3.875374e+05\n",
              "min       1.000000     1.400000       13.000000  1936.000000  6.100000e+01\n",
              "25%       8.000000     6.800000      110.000000  2010.000000  8.832500e+03\n",
              "50%       8.000000     7.500000      133.000000  2015.000000  2.647700e+04\n",
              "75%       9.000000     8.100000      151.000000  2019.000000  2.353995e+05\n",
              "max      10.000000     9.500000      572.000000  2023.000000  2.796001e+06"
            ],
            "text/html": [
              "\n",
              "  <div id=\"df-fa23e943-4d2a-46dc-9a4e-6224f260faa4\" class=\"colab-df-container\">\n",
              "    <div>\n",
              "<style scoped>\n",
              "    .dataframe tbody tr th:only-of-type {\n",
              "        vertical-align: middle;\n",
              "    }\n",
              "\n",
              "    .dataframe tbody tr th {\n",
              "        vertical-align: top;\n",
              "    }\n",
              "\n",
              "    .dataframe thead th {\n",
              "        text-align: right;\n",
              "    }\n",
              "</style>\n",
              "<table border=\"1\" class=\"dataframe\">\n",
              "  <thead>\n",
              "    <tr style=\"text-align: right;\">\n",
              "      <th></th>\n",
              "      <th>Your Rating</th>\n",
              "      <th>IMDb Rating</th>\n",
              "      <th>Runtime (mins)</th>\n",
              "      <th>Year</th>\n",
              "      <th>Num Votes</th>\n",
              "    </tr>\n",
              "  </thead>\n",
              "  <tbody>\n",
              "    <tr>\n",
              "      <th>count</th>\n",
              "      <td>995.000000</td>\n",
              "      <td>995.000000</td>\n",
              "      <td>995.000000</td>\n",
              "      <td>995.000000</td>\n",
              "      <td>9.950000e+02</td>\n",
              "    </tr>\n",
              "    <tr>\n",
              "      <th>mean</th>\n",
              "      <td>8.218090</td>\n",
              "      <td>7.336181</td>\n",
              "      <td>127.958794</td>\n",
              "      <td>2013.640201</td>\n",
              "      <td>2.066674e+05</td>\n",
              "    </tr>\n",
              "    <tr>\n",
              "      <th>std</th>\n",
              "      <td>1.343317</td>\n",
              "      <td>1.060057</td>\n",
              "      <td>46.731018</td>\n",
              "      <td>7.884554</td>\n",
              "      <td>3.875374e+05</td>\n",
              "    </tr>\n",
              "    <tr>\n",
              "      <th>min</th>\n",
              "      <td>1.000000</td>\n",
              "      <td>1.400000</td>\n",
              "      <td>13.000000</td>\n",
              "      <td>1936.000000</td>\n",
              "      <td>6.100000e+01</td>\n",
              "    </tr>\n",
              "    <tr>\n",
              "      <th>25%</th>\n",
              "      <td>8.000000</td>\n",
              "      <td>6.800000</td>\n",
              "      <td>110.000000</td>\n",
              "      <td>2010.000000</td>\n",
              "      <td>8.832500e+03</td>\n",
              "    </tr>\n",
              "    <tr>\n",
              "      <th>50%</th>\n",
              "      <td>8.000000</td>\n",
              "      <td>7.500000</td>\n",
              "      <td>133.000000</td>\n",
              "      <td>2015.000000</td>\n",
              "      <td>2.647700e+04</td>\n",
              "    </tr>\n",
              "    <tr>\n",
              "      <th>75%</th>\n",
              "      <td>9.000000</td>\n",
              "      <td>8.100000</td>\n",
              "      <td>151.000000</td>\n",
              "      <td>2019.000000</td>\n",
              "      <td>2.353995e+05</td>\n",
              "    </tr>\n",
              "    <tr>\n",
              "      <th>max</th>\n",
              "      <td>10.000000</td>\n",
              "      <td>9.500000</td>\n",
              "      <td>572.000000</td>\n",
              "      <td>2023.000000</td>\n",
              "      <td>2.796001e+06</td>\n",
              "    </tr>\n",
              "  </tbody>\n",
              "</table>\n",
              "</div>\n",
              "    <div class=\"colab-df-buttons\">\n",
              "\n",
              "  <div class=\"colab-df-container\">\n",
              "    <button class=\"colab-df-convert\" onclick=\"convertToInteractive('df-fa23e943-4d2a-46dc-9a4e-6224f260faa4')\"\n",
              "            title=\"Convert this dataframe to an interactive table.\"\n",
              "            style=\"display:none;\">\n",
              "\n",
              "  <svg xmlns=\"http://www.w3.org/2000/svg\" height=\"24px\" viewBox=\"0 -960 960 960\">\n",
              "    <path d=\"M120-120v-720h720v720H120Zm60-500h600v-160H180v160Zm220 220h160v-160H400v160Zm0 220h160v-160H400v160ZM180-400h160v-160H180v160Zm440 0h160v-160H620v160ZM180-180h160v-160H180v160Zm440 0h160v-160H620v160Z\"/>\n",
              "  </svg>\n",
              "    </button>\n",
              "\n",
              "  <style>\n",
              "    .colab-df-container {\n",
              "      display:flex;\n",
              "      gap: 12px;\n",
              "    }\n",
              "\n",
              "    .colab-df-convert {\n",
              "      background-color: #E8F0FE;\n",
              "      border: none;\n",
              "      border-radius: 50%;\n",
              "      cursor: pointer;\n",
              "      display: none;\n",
              "      fill: #1967D2;\n",
              "      height: 32px;\n",
              "      padding: 0 0 0 0;\n",
              "      width: 32px;\n",
              "    }\n",
              "\n",
              "    .colab-df-convert:hover {\n",
              "      background-color: #E2EBFA;\n",
              "      box-shadow: 0px 1px 2px rgba(60, 64, 67, 0.3), 0px 1px 3px 1px rgba(60, 64, 67, 0.15);\n",
              "      fill: #174EA6;\n",
              "    }\n",
              "\n",
              "    .colab-df-buttons div {\n",
              "      margin-bottom: 4px;\n",
              "    }\n",
              "\n",
              "    [theme=dark] .colab-df-convert {\n",
              "      background-color: #3B4455;\n",
              "      fill: #D2E3FC;\n",
              "    }\n",
              "\n",
              "    [theme=dark] .colab-df-convert:hover {\n",
              "      background-color: #434B5C;\n",
              "      box-shadow: 0px 1px 3px 1px rgba(0, 0, 0, 0.15);\n",
              "      filter: drop-shadow(0px 1px 2px rgba(0, 0, 0, 0.3));\n",
              "      fill: #FFFFFF;\n",
              "    }\n",
              "  </style>\n",
              "\n",
              "    <script>\n",
              "      const buttonEl =\n",
              "        document.querySelector('#df-fa23e943-4d2a-46dc-9a4e-6224f260faa4 button.colab-df-convert');\n",
              "      buttonEl.style.display =\n",
              "        google.colab.kernel.accessAllowed ? 'block' : 'none';\n",
              "\n",
              "      async function convertToInteractive(key) {\n",
              "        const element = document.querySelector('#df-fa23e943-4d2a-46dc-9a4e-6224f260faa4');\n",
              "        const dataTable =\n",
              "          await google.colab.kernel.invokeFunction('convertToInteractive',\n",
              "                                                    [key], {});\n",
              "        if (!dataTable) return;\n",
              "\n",
              "        const docLinkHtml = 'Like what you see? Visit the ' +\n",
              "          '<a target=\"_blank\" href=https://colab.research.google.com/notebooks/data_table.ipynb>data table notebook</a>'\n",
              "          + ' to learn more about interactive tables.';\n",
              "        element.innerHTML = '';\n",
              "        dataTable['output_type'] = 'display_data';\n",
              "        await google.colab.output.renderOutput(dataTable, element);\n",
              "        const docLink = document.createElement('div');\n",
              "        docLink.innerHTML = docLinkHtml;\n",
              "        element.appendChild(docLink);\n",
              "      }\n",
              "    </script>\n",
              "  </div>\n",
              "\n",
              "\n",
              "<div id=\"df-c545f851-0885-4dfa-b2dd-fa3a49cd9530\">\n",
              "  <button class=\"colab-df-quickchart\" onclick=\"quickchart('df-c545f851-0885-4dfa-b2dd-fa3a49cd9530')\"\n",
              "            title=\"Suggest charts.\"\n",
              "            style=\"display:none;\">\n",
              "\n",
              "<svg xmlns=\"http://www.w3.org/2000/svg\" height=\"24px\"viewBox=\"0 0 24 24\"\n",
              "     width=\"24px\">\n",
              "    <g>\n",
              "        <path d=\"M19 3H5c-1.1 0-2 .9-2 2v14c0 1.1.9 2 2 2h14c1.1 0 2-.9 2-2V5c0-1.1-.9-2-2-2zM9 17H7v-7h2v7zm4 0h-2V7h2v10zm4 0h-2v-4h2v4z\"/>\n",
              "    </g>\n",
              "</svg>\n",
              "  </button>\n",
              "\n",
              "<style>\n",
              "  .colab-df-quickchart {\n",
              "      --bg-color: #E8F0FE;\n",
              "      --fill-color: #1967D2;\n",
              "      --hover-bg-color: #E2EBFA;\n",
              "      --hover-fill-color: #174EA6;\n",
              "      --disabled-fill-color: #AAA;\n",
              "      --disabled-bg-color: #DDD;\n",
              "  }\n",
              "\n",
              "  [theme=dark] .colab-df-quickchart {\n",
              "      --bg-color: #3B4455;\n",
              "      --fill-color: #D2E3FC;\n",
              "      --hover-bg-color: #434B5C;\n",
              "      --hover-fill-color: #FFFFFF;\n",
              "      --disabled-bg-color: #3B4455;\n",
              "      --disabled-fill-color: #666;\n",
              "  }\n",
              "\n",
              "  .colab-df-quickchart {\n",
              "    background-color: var(--bg-color);\n",
              "    border: none;\n",
              "    border-radius: 50%;\n",
              "    cursor: pointer;\n",
              "    display: none;\n",
              "    fill: var(--fill-color);\n",
              "    height: 32px;\n",
              "    padding: 0;\n",
              "    width: 32px;\n",
              "  }\n",
              "\n",
              "  .colab-df-quickchart:hover {\n",
              "    background-color: var(--hover-bg-color);\n",
              "    box-shadow: 0 1px 2px rgba(60, 64, 67, 0.3), 0 1px 3px 1px rgba(60, 64, 67, 0.15);\n",
              "    fill: var(--button-hover-fill-color);\n",
              "  }\n",
              "\n",
              "  .colab-df-quickchart-complete:disabled,\n",
              "  .colab-df-quickchart-complete:disabled:hover {\n",
              "    background-color: var(--disabled-bg-color);\n",
              "    fill: var(--disabled-fill-color);\n",
              "    box-shadow: none;\n",
              "  }\n",
              "\n",
              "  .colab-df-spinner {\n",
              "    border: 2px solid var(--fill-color);\n",
              "    border-color: transparent;\n",
              "    border-bottom-color: var(--fill-color);\n",
              "    animation:\n",
              "      spin 1s steps(1) infinite;\n",
              "  }\n",
              "\n",
              "  @keyframes spin {\n",
              "    0% {\n",
              "      border-color: transparent;\n",
              "      border-bottom-color: var(--fill-color);\n",
              "      border-left-color: var(--fill-color);\n",
              "    }\n",
              "    20% {\n",
              "      border-color: transparent;\n",
              "      border-left-color: var(--fill-color);\n",
              "      border-top-color: var(--fill-color);\n",
              "    }\n",
              "    30% {\n",
              "      border-color: transparent;\n",
              "      border-left-color: var(--fill-color);\n",
              "      border-top-color: var(--fill-color);\n",
              "      border-right-color: var(--fill-color);\n",
              "    }\n",
              "    40% {\n",
              "      border-color: transparent;\n",
              "      border-right-color: var(--fill-color);\n",
              "      border-top-color: var(--fill-color);\n",
              "    }\n",
              "    60% {\n",
              "      border-color: transparent;\n",
              "      border-right-color: var(--fill-color);\n",
              "    }\n",
              "    80% {\n",
              "      border-color: transparent;\n",
              "      border-right-color: var(--fill-color);\n",
              "      border-bottom-color: var(--fill-color);\n",
              "    }\n",
              "    90% {\n",
              "      border-color: transparent;\n",
              "      border-bottom-color: var(--fill-color);\n",
              "    }\n",
              "  }\n",
              "</style>\n",
              "\n",
              "  <script>\n",
              "    async function quickchart(key) {\n",
              "      const quickchartButtonEl =\n",
              "        document.querySelector('#' + key + ' button');\n",
              "      quickchartButtonEl.disabled = true;  // To prevent multiple clicks.\n",
              "      quickchartButtonEl.classList.add('colab-df-spinner');\n",
              "      try {\n",
              "        const charts = await google.colab.kernel.invokeFunction(\n",
              "            'suggestCharts', [key], {});\n",
              "      } catch (error) {\n",
              "        console.error('Error during call to suggestCharts:', error);\n",
              "      }\n",
              "      quickchartButtonEl.classList.remove('colab-df-spinner');\n",
              "      quickchartButtonEl.classList.add('colab-df-quickchart-complete');\n",
              "    }\n",
              "    (() => {\n",
              "      let quickchartButtonEl =\n",
              "        document.querySelector('#df-c545f851-0885-4dfa-b2dd-fa3a49cd9530 button');\n",
              "      quickchartButtonEl.style.display =\n",
              "        google.colab.kernel.accessAllowed ? 'block' : 'none';\n",
              "    })();\n",
              "  </script>\n",
              "</div>\n",
              "    </div>\n",
              "  </div>\n"
            ]
          },
          "metadata": {},
          "execution_count": 192
        }
      ]
    },
    {
      "cell_type": "markdown",
      "source": [
        "**Above analysis shoows that average rating given is 8.2; whereas average IMDb rating of the movies rated is 7.3. Smallest content watched is 13 mins long, average duration of the content rated is 128 mins, whereas the longest content (a TV Series) watched is 572 mins long**"
      ],
      "metadata": {
        "id": "w7O3l7rxTD_E"
      }
    },
    {
      "cell_type": "code",
      "source": [
        "most_voted = imdb['Num Votes'].loc[imdb['Num Votes'].idxmax()]\n",
        "imdb[imdb['Num Votes'] == most_voted]"
      ],
      "metadata": {
        "colab": {
          "base_uri": "https://localhost:8080/",
          "height": 115
        },
        "id": "T-t2bm1lWZVv",
        "outputId": "6800119c-d834-499c-e6bb-a6babd073803"
      },
      "execution_count": null,
      "outputs": [
        {
          "output_type": "execute_result",
          "data": {
            "text/plain": [
              "           Id  Your Rating Date Rated                     Title Title Type  \\\n",
              "70  tt0111161            9  1/20/2016  The Shawshank Redemption      movie   \n",
              "\n",
              "    IMDb Rating  Runtime (mins)  Year Genres  Num Votes       Directors  \n",
              "70          9.3           142.0  1994  Drama    2796001  Frank Darabont  "
            ],
            "text/html": [
              "\n",
              "  <div id=\"df-be41260f-6462-4e39-add3-b9ad76ee1a34\" class=\"colab-df-container\">\n",
              "    <div>\n",
              "<style scoped>\n",
              "    .dataframe tbody tr th:only-of-type {\n",
              "        vertical-align: middle;\n",
              "    }\n",
              "\n",
              "    .dataframe tbody tr th {\n",
              "        vertical-align: top;\n",
              "    }\n",
              "\n",
              "    .dataframe thead th {\n",
              "        text-align: right;\n",
              "    }\n",
              "</style>\n",
              "<table border=\"1\" class=\"dataframe\">\n",
              "  <thead>\n",
              "    <tr style=\"text-align: right;\">\n",
              "      <th></th>\n",
              "      <th>Id</th>\n",
              "      <th>Your Rating</th>\n",
              "      <th>Date Rated</th>\n",
              "      <th>Title</th>\n",
              "      <th>Title Type</th>\n",
              "      <th>IMDb Rating</th>\n",
              "      <th>Runtime (mins)</th>\n",
              "      <th>Year</th>\n",
              "      <th>Genres</th>\n",
              "      <th>Num Votes</th>\n",
              "      <th>Directors</th>\n",
              "    </tr>\n",
              "  </thead>\n",
              "  <tbody>\n",
              "    <tr>\n",
              "      <th>70</th>\n",
              "      <td>tt0111161</td>\n",
              "      <td>9</td>\n",
              "      <td>1/20/2016</td>\n",
              "      <td>The Shawshank Redemption</td>\n",
              "      <td>movie</td>\n",
              "      <td>9.3</td>\n",
              "      <td>142.0</td>\n",
              "      <td>1994</td>\n",
              "      <td>Drama</td>\n",
              "      <td>2796001</td>\n",
              "      <td>Frank Darabont</td>\n",
              "    </tr>\n",
              "  </tbody>\n",
              "</table>\n",
              "</div>\n",
              "    <div class=\"colab-df-buttons\">\n",
              "\n",
              "  <div class=\"colab-df-container\">\n",
              "    <button class=\"colab-df-convert\" onclick=\"convertToInteractive('df-be41260f-6462-4e39-add3-b9ad76ee1a34')\"\n",
              "            title=\"Convert this dataframe to an interactive table.\"\n",
              "            style=\"display:none;\">\n",
              "\n",
              "  <svg xmlns=\"http://www.w3.org/2000/svg\" height=\"24px\" viewBox=\"0 -960 960 960\">\n",
              "    <path d=\"M120-120v-720h720v720H120Zm60-500h600v-160H180v160Zm220 220h160v-160H400v160Zm0 220h160v-160H400v160ZM180-400h160v-160H180v160Zm440 0h160v-160H620v160ZM180-180h160v-160H180v160Zm440 0h160v-160H620v160Z\"/>\n",
              "  </svg>\n",
              "    </button>\n",
              "\n",
              "  <style>\n",
              "    .colab-df-container {\n",
              "      display:flex;\n",
              "      gap: 12px;\n",
              "    }\n",
              "\n",
              "    .colab-df-convert {\n",
              "      background-color: #E8F0FE;\n",
              "      border: none;\n",
              "      border-radius: 50%;\n",
              "      cursor: pointer;\n",
              "      display: none;\n",
              "      fill: #1967D2;\n",
              "      height: 32px;\n",
              "      padding: 0 0 0 0;\n",
              "      width: 32px;\n",
              "    }\n",
              "\n",
              "    .colab-df-convert:hover {\n",
              "      background-color: #E2EBFA;\n",
              "      box-shadow: 0px 1px 2px rgba(60, 64, 67, 0.3), 0px 1px 3px 1px rgba(60, 64, 67, 0.15);\n",
              "      fill: #174EA6;\n",
              "    }\n",
              "\n",
              "    .colab-df-buttons div {\n",
              "      margin-bottom: 4px;\n",
              "    }\n",
              "\n",
              "    [theme=dark] .colab-df-convert {\n",
              "      background-color: #3B4455;\n",
              "      fill: #D2E3FC;\n",
              "    }\n",
              "\n",
              "    [theme=dark] .colab-df-convert:hover {\n",
              "      background-color: #434B5C;\n",
              "      box-shadow: 0px 1px 3px 1px rgba(0, 0, 0, 0.15);\n",
              "      filter: drop-shadow(0px 1px 2px rgba(0, 0, 0, 0.3));\n",
              "      fill: #FFFFFF;\n",
              "    }\n",
              "  </style>\n",
              "\n",
              "    <script>\n",
              "      const buttonEl =\n",
              "        document.querySelector('#df-be41260f-6462-4e39-add3-b9ad76ee1a34 button.colab-df-convert');\n",
              "      buttonEl.style.display =\n",
              "        google.colab.kernel.accessAllowed ? 'block' : 'none';\n",
              "\n",
              "      async function convertToInteractive(key) {\n",
              "        const element = document.querySelector('#df-be41260f-6462-4e39-add3-b9ad76ee1a34');\n",
              "        const dataTable =\n",
              "          await google.colab.kernel.invokeFunction('convertToInteractive',\n",
              "                                                    [key], {});\n",
              "        if (!dataTable) return;\n",
              "\n",
              "        const docLinkHtml = 'Like what you see? Visit the ' +\n",
              "          '<a target=\"_blank\" href=https://colab.research.google.com/notebooks/data_table.ipynb>data table notebook</a>'\n",
              "          + ' to learn more about interactive tables.';\n",
              "        element.innerHTML = '';\n",
              "        dataTable['output_type'] = 'display_data';\n",
              "        await google.colab.output.renderOutput(dataTable, element);\n",
              "        const docLink = document.createElement('div');\n",
              "        docLink.innerHTML = docLinkHtml;\n",
              "        element.appendChild(docLink);\n",
              "      }\n",
              "    </script>\n",
              "  </div>\n",
              "\n",
              "    </div>\n",
              "  </div>\n"
            ]
          },
          "metadata": {},
          "execution_count": 193
        }
      ]
    },
    {
      "cell_type": "markdown",
      "source": [
        "**Content with the most number of votes is a movie -\"The Shawshank Redemption\"**"
      ],
      "metadata": {
        "id": "uoh1ipq0Tsmu"
      }
    },
    {
      "cell_type": "code",
      "source": [
        "least_voted = imdb['Num Votes'].loc[imdb['Num Votes'].idxmin()]\n",
        "imdb[imdb['Num Votes'] == least_voted]"
      ],
      "metadata": {
        "colab": {
          "base_uri": "https://localhost:8080/",
          "height": 115
        },
        "id": "m_okD7Z7WhZM",
        "outputId": "3f86c7c9-ac12-47b9-8d97-e36e79997e7b"
      },
      "execution_count": null,
      "outputs": [
        {
          "output_type": "execute_result",
          "data": {
            "text/plain": [
              "            Id  Your Rating Date Rated        Title Title Type  IMDb Rating  \\\n",
              "605  tt4317854            2  9/25/2016  Vitti Dandu      movie          7.5   \n",
              "\n",
              "     Runtime (mins)  Year          Genres  Num Votes     Directors  \n",
              "605           117.0  2014  Drama, History         61  Ganesh Kadam  "
            ],
            "text/html": [
              "\n",
              "  <div id=\"df-699a3b11-0ba1-41bf-8823-d2b14dd9857d\" class=\"colab-df-container\">\n",
              "    <div>\n",
              "<style scoped>\n",
              "    .dataframe tbody tr th:only-of-type {\n",
              "        vertical-align: middle;\n",
              "    }\n",
              "\n",
              "    .dataframe tbody tr th {\n",
              "        vertical-align: top;\n",
              "    }\n",
              "\n",
              "    .dataframe thead th {\n",
              "        text-align: right;\n",
              "    }\n",
              "</style>\n",
              "<table border=\"1\" class=\"dataframe\">\n",
              "  <thead>\n",
              "    <tr style=\"text-align: right;\">\n",
              "      <th></th>\n",
              "      <th>Id</th>\n",
              "      <th>Your Rating</th>\n",
              "      <th>Date Rated</th>\n",
              "      <th>Title</th>\n",
              "      <th>Title Type</th>\n",
              "      <th>IMDb Rating</th>\n",
              "      <th>Runtime (mins)</th>\n",
              "      <th>Year</th>\n",
              "      <th>Genres</th>\n",
              "      <th>Num Votes</th>\n",
              "      <th>Directors</th>\n",
              "    </tr>\n",
              "  </thead>\n",
              "  <tbody>\n",
              "    <tr>\n",
              "      <th>605</th>\n",
              "      <td>tt4317854</td>\n",
              "      <td>2</td>\n",
              "      <td>9/25/2016</td>\n",
              "      <td>Vitti Dandu</td>\n",
              "      <td>movie</td>\n",
              "      <td>7.5</td>\n",
              "      <td>117.0</td>\n",
              "      <td>2014</td>\n",
              "      <td>Drama, History</td>\n",
              "      <td>61</td>\n",
              "      <td>Ganesh Kadam</td>\n",
              "    </tr>\n",
              "  </tbody>\n",
              "</table>\n",
              "</div>\n",
              "    <div class=\"colab-df-buttons\">\n",
              "\n",
              "  <div class=\"colab-df-container\">\n",
              "    <button class=\"colab-df-convert\" onclick=\"convertToInteractive('df-699a3b11-0ba1-41bf-8823-d2b14dd9857d')\"\n",
              "            title=\"Convert this dataframe to an interactive table.\"\n",
              "            style=\"display:none;\">\n",
              "\n",
              "  <svg xmlns=\"http://www.w3.org/2000/svg\" height=\"24px\" viewBox=\"0 -960 960 960\">\n",
              "    <path d=\"M120-120v-720h720v720H120Zm60-500h600v-160H180v160Zm220 220h160v-160H400v160Zm0 220h160v-160H400v160ZM180-400h160v-160H180v160Zm440 0h160v-160H620v160ZM180-180h160v-160H180v160Zm440 0h160v-160H620v160Z\"/>\n",
              "  </svg>\n",
              "    </button>\n",
              "\n",
              "  <style>\n",
              "    .colab-df-container {\n",
              "      display:flex;\n",
              "      gap: 12px;\n",
              "    }\n",
              "\n",
              "    .colab-df-convert {\n",
              "      background-color: #E8F0FE;\n",
              "      border: none;\n",
              "      border-radius: 50%;\n",
              "      cursor: pointer;\n",
              "      display: none;\n",
              "      fill: #1967D2;\n",
              "      height: 32px;\n",
              "      padding: 0 0 0 0;\n",
              "      width: 32px;\n",
              "    }\n",
              "\n",
              "    .colab-df-convert:hover {\n",
              "      background-color: #E2EBFA;\n",
              "      box-shadow: 0px 1px 2px rgba(60, 64, 67, 0.3), 0px 1px 3px 1px rgba(60, 64, 67, 0.15);\n",
              "      fill: #174EA6;\n",
              "    }\n",
              "\n",
              "    .colab-df-buttons div {\n",
              "      margin-bottom: 4px;\n",
              "    }\n",
              "\n",
              "    [theme=dark] .colab-df-convert {\n",
              "      background-color: #3B4455;\n",
              "      fill: #D2E3FC;\n",
              "    }\n",
              "\n",
              "    [theme=dark] .colab-df-convert:hover {\n",
              "      background-color: #434B5C;\n",
              "      box-shadow: 0px 1px 3px 1px rgba(0, 0, 0, 0.15);\n",
              "      filter: drop-shadow(0px 1px 2px rgba(0, 0, 0, 0.3));\n",
              "      fill: #FFFFFF;\n",
              "    }\n",
              "  </style>\n",
              "\n",
              "    <script>\n",
              "      const buttonEl =\n",
              "        document.querySelector('#df-699a3b11-0ba1-41bf-8823-d2b14dd9857d button.colab-df-convert');\n",
              "      buttonEl.style.display =\n",
              "        google.colab.kernel.accessAllowed ? 'block' : 'none';\n",
              "\n",
              "      async function convertToInteractive(key) {\n",
              "        const element = document.querySelector('#df-699a3b11-0ba1-41bf-8823-d2b14dd9857d');\n",
              "        const dataTable =\n",
              "          await google.colab.kernel.invokeFunction('convertToInteractive',\n",
              "                                                    [key], {});\n",
              "        if (!dataTable) return;\n",
              "\n",
              "        const docLinkHtml = 'Like what you see? Visit the ' +\n",
              "          '<a target=\"_blank\" href=https://colab.research.google.com/notebooks/data_table.ipynb>data table notebook</a>'\n",
              "          + ' to learn more about interactive tables.';\n",
              "        element.innerHTML = '';\n",
              "        dataTable['output_type'] = 'display_data';\n",
              "        await google.colab.output.renderOutput(dataTable, element);\n",
              "        const docLink = document.createElement('div');\n",
              "        docLink.innerHTML = docLinkHtml;\n",
              "        element.appendChild(docLink);\n",
              "      }\n",
              "    </script>\n",
              "  </div>\n",
              "\n",
              "    </div>\n",
              "  </div>\n"
            ]
          },
          "metadata": {},
          "execution_count": 194
        }
      ]
    },
    {
      "cell_type": "markdown",
      "source": [
        "**Content with the most number of votes is a movie - \"Vitti Dandu\"**"
      ],
      "metadata": {
        "id": "wfUgsbKST71Q"
      }
    },
    {
      "cell_type": "code",
      "source": [
        "imdb['Date Rated'] = imdb['Date Rated'].astype('datetime64[ns]')  #changed column 'Date Rated' to datetime datatype"
      ],
      "metadata": {
        "id": "lH18VvUIW-Mo"
      },
      "execution_count": null,
      "outputs": []
    },
    {
      "cell_type": "code",
      "source": [
        "d1_ip = imdb['Date Rated'].min()\n",
        "d1 = datetime.strftime(d1_ip, \"%Y-%m-%d\")\n",
        "d2 = datetime.strftime(date.today(), \"%Y-%m-%d\")"
      ],
      "metadata": {
        "id": "7tbJwIFiXN9b"
      },
      "execution_count": null,
      "outputs": []
    },
    {
      "cell_type": "code",
      "source": [
        "d1_final = datetime.strptime(d1, \"%Y-%m-%d\")\n",
        "d2_final = datetime.strptime(d2, \"%Y-%m-%d\")"
      ],
      "metadata": {
        "id": "Pn7_rHqBXap4"
      },
      "execution_count": null,
      "outputs": []
    },
    {
      "cell_type": "code",
      "source": [
        "k = d2_final - d1_final   #it finds out the number of days since the first content (movies) was rated till today"
      ],
      "metadata": {
        "id": "es4C8Lg3XcJ-"
      },
      "execution_count": null,
      "outputs": []
    },
    {
      "cell_type": "code",
      "source": [
        "one_movieorshow_in_days = round(k.days/imdb.shape[0])"
      ],
      "metadata": {
        "id": "PSpTeM5pXrB7"
      },
      "execution_count": null,
      "outputs": []
    },
    {
      "cell_type": "code",
      "source": [
        "one_movieorshow_in_days   #finds out in how many days I consume one particular content (Data till 12th Sept, 2023)"
      ],
      "metadata": {
        "colab": {
          "base_uri": "https://localhost:8080/"
        },
        "id": "MMlgupQjeQm3",
        "outputId": "d4bb4fd5-7c7a-41ea-8fbc-829a3ccaf329"
      },
      "execution_count": null,
      "outputs": [
        {
          "output_type": "execute_result",
          "data": {
            "text/plain": [
              "3"
            ]
          },
          "metadata": {},
          "execution_count": 229
        }
      ]
    },
    {
      "cell_type": "code",
      "source": [
        "imdb[imdb['Date Rated'] == d1_ip]['Title']"
      ],
      "metadata": {
        "colab": {
          "base_uri": "https://localhost:8080/"
        },
        "id": "E6_BL4a-eUxl",
        "outputId": "4e5cf2a3-2798-47ff-e27f-6f58d6486bff"
      },
      "execution_count": null,
      "outputs": [
        {
          "output_type": "execute_result",
          "data": {
            "text/plain": [
              "403        OMG: Oh My God!\n",
              "551        Bajirao Mastani\n",
              "630                Dilwale\n",
              "678                 Talvar\n",
              "937    The Big Bang Theory\n",
              "Name: Title, dtype: object"
            ]
          },
          "metadata": {},
          "execution_count": 231
        }
      ]
    },
    {
      "cell_type": "markdown",
      "source": [
        "**Above 5 movies were rated the first since the beginning of usage of IMDb**"
      ],
      "metadata": {
        "id": "9EQDcTH2U-JG"
      }
    },
    {
      "cell_type": "code",
      "source": [
        "d2_ip = imdb['Date Rated'].max()"
      ],
      "metadata": {
        "id": "2RAeIiAoeyzg"
      },
      "execution_count": null,
      "outputs": []
    },
    {
      "cell_type": "code",
      "source": [
        "imdb[imdb['Date Rated'] == d2_ip]['Title']"
      ],
      "metadata": {
        "id": "iYiVa7Doe5JT",
        "outputId": "4839d39f-9f40-46ee-df21-a1798e6942c5",
        "colab": {
          "base_uri": "https://localhost:8080/"
        }
      },
      "execution_count": null,
      "outputs": [
        {
          "output_type": "execute_result",
          "data": {
            "text/plain": [
              "262    Jawan\n",
              "Name: Title, dtype: object"
            ]
          },
          "metadata": {},
          "execution_count": 233
        }
      ]
    },
    {
      "cell_type": "markdown",
      "source": [
        "**Above movie was rated the latest**"
      ],
      "metadata": {
        "id": "eggPRjWFVMUo"
      }
    },
    {
      "cell_type": "code",
      "source": [
        "imdb[\"Your Rating\"].dtype"
      ],
      "metadata": {
        "colab": {
          "base_uri": "https://localhost:8080/"
        },
        "id": "bgEGHx-Fy8z-",
        "outputId": "3ef13bbe-84ca-48a0-f384-7c03a21cf6ae"
      },
      "execution_count": null,
      "outputs": [
        {
          "output_type": "execute_result",
          "data": {
            "text/plain": [
              "dtype('int64')"
            ]
          },
          "metadata": {},
          "execution_count": 8
        }
      ]
    },
    {
      "cell_type": "code",
      "source": [
        "ax = sns.countplot(x=imdb[\"Your Rating\"])\n",
        "for bars in ax.containers:\n",
        "    ax.bar_label(bars)"
      ],
      "metadata": {
        "colab": {
          "base_uri": "https://localhost:8080/",
          "height": 449
        },
        "id": "zeaSCxA_0Nvf",
        "outputId": "c06ba877-d4f0-4520-a3c8-34c3cdaee4f5"
      },
      "execution_count": null,
      "outputs": [
        {
          "output_type": "display_data",
          "data": {
            "text/plain": [
              "<Figure size 640x480 with 1 Axes>"
            ],
            "image/png": "[encoded data removed]"
          },
          "metadata": {}
        }
      ]
    },
    {
      "cell_type": "markdown",
      "source": [
        "**Above countplot shows the distribution of ratings given to the content**"
      ],
      "metadata": {
        "id": "xaqrNrgRVWHD"
      }
    },
    {
      "cell_type": "code",
      "source": [
        "sns.scatterplot(data=imdb, x=\"Your Rating\", y=\"IMDb Rating\")"
      ],
      "metadata": {
        "colab": {
          "base_uri": "https://localhost:8080/",
          "height": 466
        },
        "id": "tGDjJfrv1QZT",
        "outputId": "cf7046e8-4c52-4a71-d1ad-c8d776a55505"
      },
      "execution_count": null,
      "outputs": [
        {
          "output_type": "execute_result",
          "data": {
            "text/plain": [
              "<Axes: xlabel='Your Rating', ylabel='IMDb Rating'>"
            ]
          },
          "metadata": {},
          "execution_count": 10
        },
        {
          "output_type": "display_data",
          "data": {
            "text/plain": [
              "<Figure size 640x480 with 1 Axes>"
            ],
            "image/png": "[encoded data removed]"
          },
          "metadata": {}
        }
      ]
    },
    {
      "cell_type": "markdown",
      "source": [
        "**Above plot shows that their is no corelation between user rating and the imdb rating. For example, content rated 10 by the user has IMDb rating ranging from 5 till 9.**"
      ],
      "metadata": {
        "id": "CkDSVXBtVl4n"
      }
    },
    {
      "cell_type": "code",
      "source": [
        "ax = sns.countplot(x=imdb[\"Title Type\"])\n",
        "for bars in ax.containers:\n",
        "    ax.bar_label(bars)"
      ],
      "metadata": {
        "colab": {
          "base_uri": "https://localhost:8080/",
          "height": 449
        },
        "id": "N7U9vB1A2434",
        "outputId": "e0980307-876d-40c4-b734-a91e9789c05c"
      },
      "execution_count": null,
      "outputs": [
        {
          "output_type": "display_data",
          "data": {
            "text/plain": [
              "<Figure size 640x480 with 1 Axes>"
            ],
            "image/png": "[encoded data removed]"
          },
          "metadata": {}
        }
      ]
    },
    {
      "cell_type": "markdown",
      "source": [
        "**Above countplot indicated the type of content watched the most- that is, movies.**"
      ],
      "metadata": {
        "id": "kYZvUYGqV-_h"
      }
    },
    {
      "cell_type": "code",
      "source": [
        "def get_year(dates):    #function to extract year from the 'Date Rated' column\n",
        "  return dates.year"
      ],
      "metadata": {
        "id": "MtvP3vtjYbok"
      },
      "execution_count": null,
      "outputs": []
    },
    {
      "cell_type": "code",
      "source": [
        "imdb.insert(imdb.columns.get_loc('Date Rated')+1, 'Rated(Year)', imdb['Date Rated'].apply(get_year))  #Applied the above function to 'Date Rated' column and inserts a new column thus created next to the 'Date Rated' column"
      ],
      "metadata": {
        "id": "sL3Hu55aYf2g"
      },
      "execution_count": null,
      "outputs": []
    },
    {
      "cell_type": "code",
      "source": [
        "imdb['Rated(Year)'].dtype"
      ],
      "metadata": {
        "colab": {
          "base_uri": "https://localhost:8080/"
        },
        "id": "8ZAm9r9VYt3N",
        "outputId": "f99f3f40-7095-418e-ff53-111f3cc723e5"
      },
      "execution_count": null,
      "outputs": [
        {
          "output_type": "execute_result",
          "data": {
            "text/plain": [
              "dtype('int64')"
            ]
          },
          "metadata": {},
          "execution_count": 204
        }
      ]
    },
    {
      "cell_type": "code",
      "source": [
        "ax = sns.countplot(x=imdb['Rated(Year)'])\n",
        "for bars in ax.containers:\n",
        "    ax.bar_label(bars)"
      ],
      "metadata": {
        "colab": {
          "base_uri": "https://localhost:8080/",
          "height": 391
        },
        "id": "nuY9jjEjIhtr",
        "outputId": "3b5ca04a-d7d3-4b74-8fa4-48a7a6364963"
      },
      "execution_count": null,
      "outputs": [
        {
          "output_type": "display_data",
          "data": {
            "text/plain": [
              "<Figure size 1500x500 with 1 Axes>"
            ],
            "image/png": "[encoded data removed]"
          },
          "metadata": {}
        }
      ]
    },
    {
      "cell_type": "markdown",
      "source": [
        "**Most titles were rated in 2016 (338); while 2023 was the least active year, where only 31 titles were rated.**"
      ],
      "metadata": {
        "id": "LNexTwj3W0MC"
      }
    },
    {
      "cell_type": "code",
      "source": [
        "def get_month(dates):   #extract month from the 'Date Rated' column\n",
        "  return dates.month"
      ],
      "metadata": {
        "id": "kGW4-anFaMqP"
      },
      "execution_count": null,
      "outputs": []
    },
    {
      "cell_type": "code",
      "source": [
        "imdb.insert(imdb.columns.get_loc('Date Rated')+1, 'Rated(Month)', imdb['Date Rated'].apply(get_month))  #Applied the above function to 'Date Rated' column and inserts a new column thus created next to the 'Date Rated' column"
      ],
      "metadata": {
        "id": "8BGGsbkKaN8B"
      },
      "execution_count": null,
      "outputs": []
    },
    {
      "cell_type": "code",
      "source": [
        "imdb.sample()"
      ],
      "metadata": {
        "colab": {
          "base_uri": "https://localhost:8080/",
          "height": 133
        },
        "id": "TZCawWT8arJb",
        "outputId": "286f16f6-535f-4058-a39c-8ae3db5db251"
      },
      "execution_count": null,
      "outputs": [
        {
          "output_type": "execute_result",
          "data": {
            "text/plain": [
              "             Id  Your Rating Date Rated  Rated(Month)  Rated(Year)  \\\n",
              "111  tt11651550            8 2021-07-17             7         2021   \n",
              "\n",
              "              Title Title Type  IMDb Rating  Runtime (mins)  Year  \\\n",
              "111  Operation Java      movie          8.1           146.0  2021   \n",
              "\n",
              "                     Genres  Num Votes       Directors  \n",
              "111  Crime, Drama, Thriller       4654  Sudhi Maddison  "
            ],
            "text/html": [
              "\n",
              "  <div id=\"df-0f2f2995-da6f-4606-bb49-b488c5e73dfd\" class=\"colab-df-container\">\n",
              "    <div>\n",
              "<style scoped>\n",
              "    .dataframe tbody tr th:only-of-type {\n",
              "        vertical-align: middle;\n",
              "    }\n",
              "\n",
              "    .dataframe tbody tr th {\n",
              "        vertical-align: top;\n",
              "    }\n",
              "\n",
              "    .dataframe thead th {\n",
              "        text-align: right;\n",
              "    }\n",
              "</style>\n",
              "<table border=\"1\" class=\"dataframe\">\n",
              "  <thead>\n",
              "    <tr style=\"text-align: right;\">\n",
              "      <th></th>\n",
              "      <th>Id</th>\n",
              "      <th>Your Rating</th>\n",
              "      <th>Date Rated</th>\n",
              "      <th>Rated(Month)</th>\n",
              "      <th>Rated(Year)</th>\n",
              "      <th>Title</th>\n",
              "      <th>Title Type</th>\n",
              "      <th>IMDb Rating</th>\n",
              "      <th>Runtime (mins)</th>\n",
              "      <th>Year</th>\n",
              "      <th>Genres</th>\n",
              "      <th>Num Votes</th>\n",
              "      <th>Directors</th>\n",
              "    </tr>\n",
              "  </thead>\n",
              "  <tbody>\n",
              "    <tr>\n",
              "      <th>111</th>\n",
              "      <td>tt11651550</td>\n",
              "      <td>8</td>\n",
              "      <td>2021-07-17</td>\n",
              "      <td>7</td>\n",
              "      <td>2021</td>\n",
              "      <td>Operation Java</td>\n",
              "      <td>movie</td>\n",
              "      <td>8.1</td>\n",
              "      <td>146.0</td>\n",
              "      <td>2021</td>\n",
              "      <td>Crime, Drama, Thriller</td>\n",
              "      <td>4654</td>\n",
              "      <td>Sudhi Maddison</td>\n",
              "    </tr>\n",
              "  </tbody>\n",
              "</table>\n",
              "</div>\n",
              "    <div class=\"colab-df-buttons\">\n",
              "\n",
              "  <div class=\"colab-df-container\">\n",
              "    <button class=\"colab-df-convert\" onclick=\"convertToInteractive('df-0f2f2995-da6f-4606-bb49-b488c5e73dfd')\"\n",
              "            title=\"Convert this dataframe to an interactive table.\"\n",
              "            style=\"display:none;\">\n",
              "\n",
              "  <svg xmlns=\"http://www.w3.org/2000/svg\" height=\"24px\" viewBox=\"0 -960 960 960\">\n",
              "    <path d=\"M120-120v-720h720v720H120Zm60-500h600v-160H180v160Zm220 220h160v-160H400v160Zm0 220h160v-160H400v160ZM180-400h160v-160H180v160Zm440 0h160v-160H620v160ZM180-180h160v-160H180v160Zm440 0h160v-160H620v160Z\"/>\n",
              "  </svg>\n",
              "    </button>\n",
              "\n",
              "  <style>\n",
              "    .colab-df-container {\n",
              "      display:flex;\n",
              "      gap: 12px;\n",
              "    }\n",
              "\n",
              "    .colab-df-convert {\n",
              "      background-color: #E8F0FE;\n",
              "      border: none;\n",
              "      border-radius: 50%;\n",
              "      cursor: pointer;\n",
              "      display: none;\n",
              "      fill: #1967D2;\n",
              "      height: 32px;\n",
              "      padding: 0 0 0 0;\n",
              "      width: 32px;\n",
              "    }\n",
              "\n",
              "    .colab-df-convert:hover {\n",
              "      background-color: #E2EBFA;\n",
              "      box-shadow: 0px 1px 2px rgba(60, 64, 67, 0.3), 0px 1px 3px 1px rgba(60, 64, 67, 0.15);\n",
              "      fill: #174EA6;\n",
              "    }\n",
              "\n",
              "    .colab-df-buttons div {\n",
              "      margin-bottom: 4px;\n",
              "    }\n",
              "\n",
              "    [theme=dark] .colab-df-convert {\n",
              "      background-color: #3B4455;\n",
              "      fill: #D2E3FC;\n",
              "    }\n",
              "\n",
              "    [theme=dark] .colab-df-convert:hover {\n",
              "      background-color: #434B5C;\n",
              "      box-shadow: 0px 1px 3px 1px rgba(0, 0, 0, 0.15);\n",
              "      filter: drop-shadow(0px 1px 2px rgba(0, 0, 0, 0.3));\n",
              "      fill: #FFFFFF;\n",
              "    }\n",
              "  </style>\n",
              "\n",
              "    <script>\n",
              "      const buttonEl =\n",
              "        document.querySelector('#df-0f2f2995-da6f-4606-bb49-b488c5e73dfd button.colab-df-convert');\n",
              "      buttonEl.style.display =\n",
              "        google.colab.kernel.accessAllowed ? 'block' : 'none';\n",
              "\n",
              "      async function convertToInteractive(key) {\n",
              "        const element = document.querySelector('#df-0f2f2995-da6f-4606-bb49-b488c5e73dfd');\n",
              "        const dataTable =\n",
              "          await google.colab.kernel.invokeFunction('convertToInteractive',\n",
              "                                                    [key], {});\n",
              "        if (!dataTable) return;\n",
              "\n",
              "        const docLinkHtml = 'Like what you see? Visit the ' +\n",
              "          '<a target=\"_blank\" href=https://colab.research.google.com/notebooks/data_table.ipynb>data table notebook</a>'\n",
              "          + ' to learn more about interactive tables.';\n",
              "        element.innerHTML = '';\n",
              "        dataTable['output_type'] = 'display_data';\n",
              "        await google.colab.output.renderOutput(dataTable, element);\n",
              "        const docLink = document.createElement('div');\n",
              "        docLink.innerHTML = docLinkHtml;\n",
              "        element.appendChild(docLink);\n",
              "      }\n",
              "    </script>\n",
              "  </div>\n",
              "\n",
              "    </div>\n",
              "  </div>\n"
            ]
          },
          "metadata": {},
          "execution_count": 217
        }
      ]
    },
    {
      "cell_type": "code",
      "source": [
        "start = imdb[imdb['Rated(Year)'] == 2016]   #Get the subset of the data, where titles were rated in 2016"
      ],
      "metadata": {
        "id": "ZYhtjSpBaowm"
      },
      "execution_count": null,
      "outputs": []
    },
    {
      "cell_type": "code",
      "source": [
        "most_rated_months = start['Rated(Month)'].value_counts()  #Find the monthwise count of titles rated"
      ],
      "metadata": {
        "id": "HotWWHRKa50o"
      },
      "execution_count": null,
      "outputs": []
    },
    {
      "cell_type": "code",
      "source": [
        "sns.set(rc={'figure.figsize':(15,5)})\n",
        "ax = sns.barplot(x=most_rated_months.index, y=most_rated_months.values)\n",
        "for bars in ax.containers:\n",
        "    ax.bar_label(bars)"
      ],
      "metadata": {
        "colab": {
          "base_uri": "https://localhost:8080/",
          "height": 378
        },
        "id": "vbaLwRs7a7kZ",
        "outputId": "718bcbe0-f9b7-46df-dd44-0f02ac857843"
      },
      "execution_count": null,
      "outputs": [
        {
          "output_type": "display_data",
          "data": {
            "text/plain": [
              "<Figure size 1500x500 with 1 Axes>"
            ],
            "image/png": "[encoded data removed]"
          },
          "metadata": {}
        }
      ]
    },
    {
      "cell_type": "markdown",
      "source": [
        "**Above barplot shows that most of the titles were rated in 9th month (September), whereas 5th month (May) was the least busy.**"
      ],
      "metadata": {
        "id": "uNqLuRh8X_7I"
      }
    },
    {
      "cell_type": "code",
      "source": [
        "def extract_one_director(director):   #Function to extract only the first director from a string of names in the 'Directors' column\n",
        "  dir = director.split(',', 1)[0]\n",
        "  return dir"
      ],
      "metadata": {
        "id": "5WR51untZYU4"
      },
      "execution_count": null,
      "outputs": []
    },
    {
      "cell_type": "code",
      "source": [
        "imdb['Directors'].unique()"
      ],
      "metadata": {
        "colab": {
          "base_uri": "https://localhost:8080/"
        },
        "id": "jegjHpmWMhZh",
        "outputId": "faace712-2adc-4746-f3b4-223b4be5d845"
      },
      "execution_count": null,
      "outputs": [
        {
          "output_type": "execute_result",
          "data": {
            "text/plain": [
              "array(['Not Available', 'Loveleen Tandan, Danny Boyle',\n",
              "       'Abbas Alibhai Burmawalla, Mastan Alibhai Burmawalla',\n",
              "       'Anas Khan, Akhil Paul', 'Sudha Kongara',\n",
              "       'Saurabh Choubey, Prakash Jha', 'Mohit Suri', 'Swaroop Rsj',\n",
              "       'Rajeev Barnwal, Jaspal Singh Sandhu', 'Ben Affleck', 'Farah Khan',\n",
              "       'Shoojit Sircar', 'Rakesh Roshan', 'Jonathan Demme',\n",
              "       'Vishnuvardhan', 'Hitesh Kewalya', 'Anubhav Sinha',\n",
              "       'Shoojit Sircar, Kuran Dhillon', 'Pandiraj', 'Ben Sombogaart',\n",
              "       'Chad Stahelski', 'Kamal K.M.', 'Rohit Shetty', 'Rob Reiner',\n",
              "       'Rajesh Krishnan', 'David Yarovesky', 'Quentin Tarantino',\n",
              "       'Venkat Ramji', 'Lokesh Kanagaraj', 'Taika Waititi',\n",
              "       'Karthik Subbaraj', 'Madonne Ashwin', 'Jeymes Samuel',\n",
              "       'Prashanth Neel', 'Mani Ratnam', 'Cibi Chakravarthi',\n",
              "       'Midhun Manuel Thomas', 'Sam Mendes', 'Hernán Jiménez',\n",
              "       'Digpal Lanjekar', 'Sriram Raghavan', 'Anil Ravipudi',\n",
              "       'Steven Spielberg', 'H. Vinoth', 'Vivek Agnihotri',\n",
              "       'Dexter Fletcher', 'Srijit Mukherji', 'Jon Watts',\n",
              "       'Rajesh Bhatia, Laxman Utekar', 'Prasad Oak', 'Rajkumar Santoshi',\n",
              "       'Darling Krishna', 'Mahesh Narayanan', 'Imtiaz Ali',\n",
              "       'Robert Zemeckis', 'Sooraj R. Barjatya', 'Venky Atluri',\n",
              "       'Haruo Sotozaki', 'Rakeysh Omprakash Mehra', 'Aziz Mirza',\n",
              "       'Frank Darabont', 'Todd Phillips', 'Venky Kudumula',\n",
              "       'Richard Linklater', 'Ranjit Tewari', 'Adam McKay',\n",
              "       'Aditya Chopra', 'Nelson Dilipkumar', 'Anudeep K.V.',\n",
              "       'Martin Scorsese', 'Sameer Vidwans', 'Sachy', 'Michael Mann',\n",
              "       'Vineeth Sreenivasan', 'Shiva Nirvana',\n",
              "       'Mohana Krishna Indraganti', 'David Fincher', 'Nishanth Kalidindi',\n",
              "       'Sabir Khan', 'Priyadarshan Jadhav', 'Ajay Devgn', 'Manu Anand',\n",
              "       'Ritesh Rana', 'Bryan Singer', 'Sailesh Kolanu', 'Kedar Shinde',\n",
              "       'Pavel Navageethan', 'Steven Soderbergh', 'Satish Kaushik',\n",
              "       'Ruben Fleischer', 'Pa. Ranjith', 'Mari Selvaraj',\n",
              "       'Denis Villeneuve', 'Martin Prakkat', 'Ethan Coen, Joel Coen',\n",
              "       'Sudhi Maddison, Tharun Moorthy', 'A.R. Murugadoss',\n",
              "       'Roland Emmerich', 'Patrick Hughes', 'Mira Nair', 'Priyadarshan',\n",
              "       'Bommarillu Baskar', 'Gregory Hoblit', 'Stephen Herek',\n",
              "       'Ashwani Dhir', 'Boyapati Srinu', 'Abhishek Jain',\n",
              "       'Dan Trachtenberg', 'Rajkumar Hirani', 'Sohail Khan',\n",
              "       'Karan Johar', 'Milind Ukey', 'Curtis Hanson', 'Tom Shadyac',\n",
              "       'Raj B. Shetty', 'F. Gary Gray', 'Anurag Basu', 'Anup Bhandari',\n",
              "       'James Cameron', 'Peter Weir', 'Stanley Kubrick', 'Peter Jackson',\n",
              "       'Scott Derrickson', 'Umesh Vinayak Kulkarni', 'Kunal Deshmukh',\n",
              "       'Neil Burger', 'Wilson Yip', 'Jon Favreau', 'Abhishek Kapoor',\n",
              "       'Jeethu Joseph', 'Parasuram', 'Noam Murro', 'Honey Trehan',\n",
              "       'Khalid Rahman', 'David Leitch', 'Anurag Kashyap',\n",
              "       'Nishikant Kamat', 'Vishal Bhardwaj', 'Neeraj Pandey',\n",
              "       'Siddharth Anand', 'Jake Kasdan', 'Farhan Akhtar',\n",
              "       'Devanshu Singh', 'Prakash Jha', 'Aditya Sarpotdar', 'Shane Black',\n",
              "       'S. Shankar', 'Bugs Bhargava Krishna', 'Dileesh Pothan',\n",
              "       'Ayan Mukerji', 'Hasith Goli', 'Ramesh Varma', 'Jeo Baby',\n",
              "       'Lilly Wachowski, Lana Wachowski', 'Francis Lawrence',\n",
              "       'Aashiq Abu', 'Rahul Sankrityan', 'Dijo Jose Antony',\n",
              "       'Abhishek Chaubey', 'Christopher Nolan',\n",
              "       'Heavenveer Singh Hayer, Ram Madhvani', 'Vivek Athreya',\n",
              "       'Manu Warrier', \"Renzil D'Silva\", 'Vijay Lalwani', 'Dennis Dugan',\n",
              "       'Darren Aronofsky', 'Kanishk Varma', 'Deva Katta', 'George Miller',\n",
              "       'Ken Ghosh', 'Milan Luthria', 'Vipul Amrutlal Shah', 'Amal Neerad',\n",
              "       'John Putch', 'Tushar Jalota', 'Ivan Reitman', 'Saagar K Chandra',\n",
              "       'Karthik Rapolu', 'Tim Miller', 'Anees Bazmee', 'Shimit Amin',\n",
              "       'S.S. Rajamouli', 'Mahmood Farooqui, Anusha Rizvi',\n",
              "       'Alfonso Cuarón', 'Sam Raimi', 'Daniel Kinnane, Charles Kinnane',\n",
              "       'Harry Bradbeer', 'Janeen Damian', 'Felicity Morris', 'Mallik Ram',\n",
              "       'Seth Gordon', 'T.J. Gnanavel', 'Vasan Bala', 'Guy Ritchie',\n",
              "       'Rishab Shetty', 'Atlee', 'Suresh Triveni', 'Abhinav Sunder Nayak',\n",
              "       'Anirudh Iyer', 'Zoya Akhtar', 'Glenn Ficarra, John Requa',\n",
              "       'Danish Aslam', 'Zach Cregger', 'Surender Reddy', 'Viju Mane',\n",
              "       'Ravi Jadhav', 'Parmeet Sethi', 'Maneesh Sharma',\n",
              "       'Abhinav Kashyap', 'Tigmanshu Dhulia', 'Fred Savage',\n",
              "       'Abhishek Sharma', 'Atul Kale, Sudesh Manjrekar', 'Will Gluck',\n",
              "       'Paul Weitz, Chris Weitz', 'Vikramaditya Motwane', 'Larry Charles',\n",
              "       'Anthony Russo, Joe Russo', 'Rajeev Patil', \"Remo D'Souza\",\n",
              "       'Punit Malhotra', 'Ashutosh Gowariker', 'Shakun Batra',\n",
              "       'Madhur Bhandarkar', 'Siddique', 'Raj Kumar Gupta',\n",
              "       'Joseph Kosinski', 'Rich Moore', 'Samir Karnik, Jeet Rataul',\n",
              "       'Reema Kagti, Priyamvada Narayanan',\n",
              "       'Espen Sandberg, Joachim Rønning', 'Kathryn Bigelow',\n",
              "       'Sujoy Ghosh', 'Satish Rajwade', 'Ryan Coogler', 'Sujay Dahake',\n",
              "       'Vijay Krishna Acharya', 'Nitesh Tiwari, Vikas Bahl',\n",
              "       'Karan Malhotra', 'Marc Webb', 'Matt Reeves', 'Tom McCarthy',\n",
              "       'Gareth Evans', 'Luv Ranjan', 'Akshat Verma, Abhinay Deo',\n",
              "       'Oriol Paulo', 'James Mangold', 'Ron Howard', 'Alan Taylor',\n",
              "       'Rohit Dhawan', 'Pravin Tarde', 'John Mathew Matthan',\n",
              "       'Tinto Brass', 'James Gunn', 'Puri Jagannadh', 'Dibakar Banerjee',\n",
              "       'Prabhu Deva', 'Morten Tyldum', 'Hanu Raghavapudi', 'Arbaaz Khan',\n",
              "       'Rajesh Mapuskar', 'Gautham Ramachandran', 'Aanand L. Rai',\n",
              "       \"Gavin O'Connor\", 'Homi Adajania', 'Sean Anders',\n",
              "       'Abhishek Varman, Karan Johar', 'Yash Chopra',\n",
              "       'Anil Devgan, Ashwani Dhir', 'Hansal Mehta', 'Gauri Shinde',\n",
              "       'Kamal Haasan', 'Sanjay Leela Bhansali', 'Anwar Rasheed',\n",
              "       'Aditya Datt', 'David Dhawan', 'Brad Peyton', 'Wes Anderson',\n",
              "       'Umesh Shukla', 'Sanjay Gupta', 'Habib Faisal',\n",
              "       'Santosh Ramdas Manjrekar', 'Sam Taylor-Johnson', 'Ashima Chibber',\n",
              "       'Trivikram Srinivas', 'Mahesh Kothare', 'Ritesh Batra',\n",
              "       'Pawan Kumar', 'Nancy Meyers', 'Shlok Sharma', 'Abhishek Varman',\n",
              "       'Sukumar', 'Christopher McQuarrie', 'Cary Joji Fukunaga',\n",
              "       'Nikkhil Advani', 'Joss Whedon', 'Chris Columbus',\n",
              "       'Radha Krishna Jagarlamudi', 'Raj Nidimoru, Krishna D.K.',\n",
              "       'Anil Sharma', 'Paresh Mokashi', 'Hayao Miyazaki',\n",
              "       'Khalid Mohamed', 'J.B. Rogers', 'Tigmanshu Dhulia, Ajit Sable',\n",
              "       \"Anthony D'Souza\", 'Damien Chazelle', 'Doug Liman',\n",
              "       'Yûgô Sakô, Koichi Saski, Ram Mohan', 'Subhash Kapoor',\n",
              "       'Dilip Ghosh', 'John Francis Daley, Jonathan Goldstein',\n",
              "       'Susanne Bier', 'Vignesh Raja, T. Senthil Paramasivam',\n",
              "       'Joel Gallen', 'Charles Chaplin', 'Matthew Vaughn',\n",
              "       'Mrighdeep Lamba', 'Nagraj Manjule', 'Dan Gilroy', 'Luc Besson',\n",
              "       'Nalan Kumarasamy', 'David Leitch, Chad Stahelski',\n",
              "       'Rosshan Andrrews', 'Simon McQuoid', 'Rajesh Pillai',\n",
              "       'Rich Moore, Jared Bush, Byron Howard', 'Omung Kumar', 'Kanu Behl',\n",
              "       'Leena Yadav', 'Sanjay Jadhav', 'Richard Curtis', 'Bejoy Nambiar',\n",
              "       'Kátia Lund, Fernando Meirelles', 'Vinil Mathew', 'Vikram Bhatt',\n",
              "       'Gore Verbinski', 'Clint Eastwood', 'Anant Mahadevan',\n",
              "       'Andrew Lau, Alan Mak', 'Rahul Dholakia', 'Ketan Mehta',\n",
              "       'Pradeep Sarkar', 'Sharat Katariya', 'Syed Ahmad Afzal',\n",
              "       'Ben Stiller', 'Rajat Kapoor', 'Ridley Scott', 'Anjali Menon',\n",
              "       'Sundar C.', 'Sriram Raghavan, Mehmet Tutkun', 'Shashank Khaitan',\n",
              "       'Chaitanya Tamhane', 'Paul Greengrass', 'Navdeep Singh',\n",
              "       'Antoine Fuqua', 'Oliver Stone', 'Kunal Kohli', 'Martin Campbell',\n",
              "       'Samruoddhi Porey', 'Adhiraj Bose', 'Kabir Khan, Mehmet Tutkun',\n",
              "       'Chandoo Mondeti', 'Edgar Wright', 'Vinay Shukla, Khushboo Ranka',\n",
              "       'Terry George',\n",
              "       'Frank Miller, Quentin Tarantino, Robert Rodriguez',\n",
              "       'Abhijit Panse, Ravindra Karmarkar', 'K.S. Ravikumar',\n",
              "       'Michael Winterbottom', 'Shubzz, Anurag Basu',\n",
              "       'Anna Boden, Ryan Fleck', 'Fede Alvarez', 'Zack Snyder',\n",
              "       'Mathur Goswami, Neeraj Pandey', 'Clement Virgo', 'Neeraj Vora',\n",
              "       'Gautham Vasudev Menon', 'Ganesh Kadam', 'Harshavardhan Kulkarni',\n",
              "       'James McTeigue', 'Victor Salva', 'Raja Menon', 'Sanjay Gadhvi',\n",
              "       'Madhur Bhandarkar, Jay Dev Banerjee', 'Sachin Kundalkar',\n",
              "       'James Foley', 'David F. Sandberg', 'Peter Berg', 'P. Vasu',\n",
              "       'Nagesh Kukunoor', 'Ang Lee', 'Tom Ford', 'Prakash Kunte',\n",
              "       'Joe Johnston', 'Bob Persichetti, Peter Ramsey, Rodney Rothman',\n",
              "       'Neeraj Ghaywan', 'Dibakar Banerjee, Pravin E. Birje',\n",
              "       'Alphonse Puthren', 'Sunny Deol', 'Ram Gopal Varma',\n",
              "       'Abbas Tyrewala', 'R. Balki', 'Peyton Reed',\n",
              "       'Alankrita Shrivastava', 'Ribhu Dasgupta', 'Anu Menon',\n",
              "       'Ali Abbas Zafar', 'Ashwini Chaudhary', 'Greta Gerwig',\n",
              "       'Meghna Gulzar', 'Chandra Prakash Dwivedi', 'Barry Jenkins',\n",
              "       'Vikram K. Kumar', 'Venkat Prabhu', 'Mohan Raja', 'Vetrimaaran',\n",
              "       'Ashwiny Iyer Tiwari', 'Sidney Lumet', 'Jordan Peele',\n",
              "       'Nitesh Tiwari', 'Krishnadev Yagnik', 'Tinu Suresh Desai', 'Siva',\n",
              "       'Subodh Bhave', 'Ram Madhvani', 'Makoto Shinkai',\n",
              "       'Mahesh Manjrekar', 'Sameer Patil', 'Mudassar Aziz',\n",
              "       'Ravikanth Perepu', 'Aniruddha Roy Chowdhury', 'Gopi Puthran',\n",
              "       'Ravi Udyawar', 'Saket Chaudhary', 'Shree Narayan Singh',\n",
              "       'Soumendra Padhi', 'Shirish Kunder', 'Shashanka Ghosh',\n",
              "       'Rich Moore, Phil Johnston', 'Arun Prabhu Purushothaman',\n",
              "       'Koratala Siva',\n",
              "       'Musa Muhammed Olayinka, Ali Abbas Zafar, Mehmet Tutkun',\n",
              "       'Mikhil Musale', 'Girish Kulkarni',\n",
              "       'Pushkar, Gayatri, Gowtham Selvaraj', 'Shivam Nair', 'Reema Kagti',\n",
              "       'R. Ajay Gnanamuthu', 'Ric Roman Waugh', 'Bharathan',\n",
              "       'Rodo Sayagues', 'Vi Anand', 'Shawn Levy', 'Anurag Singh',\n",
              "       'Sankalp Reddy', 'Abish Mathew', 'Karthick Naren', 'Jay Roach',\n",
              "       'Jason Orley', 'Amit Masurkar', 'John Krasinski', 'Abhay Chopra',\n",
              "       'Daniel Kwan, Daniel Scheinert', 'Kushan Nandy', 'Ashok G.',\n",
              "       'Bong Joon Ho', 'Feroz Khan Bollybrothers, Neeraj Pandey',\n",
              "       'Sizil Srivastava', 'Siddharth Vasani', 'Sujeeth',\n",
              "       'Francis Ford Coppola', 'David Kerr', 'R.S. Prasanna',\n",
              "       'Abhinay Deo', 'C. Prem Kumar', 'Thiagarajan Kumararaja',\n",
              "       'Angshuman Ghosh', 'Srinath Rajendran', 'Ram Kumar', 'Andy Serkis',\n",
              "       'Patty Jenkins', 'Varun Narvekar', 'P.S. Mithran', 'Mysskin',\n",
              "       'Basil Joseph', 'Sandeep Reddy Vanga', 'K. Madhu', 'Ruben Östlund',\n",
              "       'Ramesh Sippy', 'Ratnaa Sinha', 'Christian Schwochow',\n",
              "       'Vikas Bahl', 'Kabir Khan', 'Jake Szymanski', 'Lakshya Raj Anand',\n",
              "       'Indra Kumar', 'Kenneth Branagh', 'Aneesh Chaganty', 'Shaad Ali',\n",
              "       'Cathy Yan', 'Amit Ravindernath Sharma', 'Sashi Kiran Tikka',\n",
              "       'Ari Aster', 'Prasanth Varma', 'Magizh Thirumeni', 'Matt Brown',\n",
              "       'Ilya Naishuller', 'Akarsh Khurana', 'Hrishikesh Mukherjee',\n",
              "       'Rawson Marshall Thurber', 'Sachin Ravi, Sachin',\n",
              "       'Louis Leterrier', 'Desingh Periyasamy', 'Sajid Khan',\n",
              "       'Joe Nussbaum', 'Michael Bay', 'Amar Kaushik', 'Om Raut',\n",
              "       'Apoorva Lakhia', 'Suresh Krishna', 'Ajay Bahl', 'Dipesh Shah',\n",
              "       'Galder Gaztelu-Urrutia',\n",
              "       'Anand Gandhi, Adesh Prasad, Rahi Anil Barve', 'Sathyan Anthikad',\n",
              "       'Aditya Dhar', 'Vamshi Paidipally', 'M.G. Srinivas',\n",
              "       'Madhu C. Narayanan',\n",
              "       'Zoya Akhtar, Karan Johar, Anurag Kashyap, Dibakar Banerjee',\n",
              "       'Tharun Bhascker Dhaassyam',\n",
              "       'Raj Mehta, Ranjeet Singh, Kulwinder Singh', 'Robbie Grewal',\n",
              "       'M. Padmakumar', 'Akiv Ali', 'Ajay Bhupathi', 'Jaume Collet-Serra',\n",
              "       'Lin-Manuel Miranda', 'Lijo Jose Pellissery', 'Nitin Kakkar',\n",
              "       'Laxman Utekar', 'Rian Johnson', 'Gowtam Tinnanuri',\n",
              "       'K.K. Radhakrishna Kumar', 'Jude Anthany Joseph', 'Andrew Stanton',\n",
              "       'Tony Scott', 'Raaj Shaandilyaa', 'Jagan Shakti', 'Madhavan',\n",
              "       'Destin Daniel Cretton', 'Olivia Newman', 'Andrew Waller',\n",
              "       'Jérémy Clapin', 'Aman Ullah, Priyadarshan', 'Sanjay M. Khanduri'],\n",
              "      dtype=object)"
            ]
          },
          "metadata": {},
          "execution_count": 207
        }
      ]
    },
    {
      "cell_type": "code",
      "source": [
        "imdb['Directors'] = imdb['Directors'].apply(extract_one_director)   #Applying the above function"
      ],
      "metadata": {
        "id": "NXw3KMbGQqyG"
      },
      "execution_count": null,
      "outputs": []
    },
    {
      "cell_type": "code",
      "source": [
        "imdb['Directors'].unique()  #Changes visible in the values, as all are single names"
      ],
      "metadata": {
        "colab": {
          "base_uri": "https://localhost:8080/"
        },
        "id": "Ffy4QlObQu2K",
        "outputId": "8c5b8233-0f37-49fe-9b90-ed0c33f1e827"
      },
      "execution_count": null,
      "outputs": [
        {
          "output_type": "execute_result",
          "data": {
            "text/plain": [
              "array(['Not Available', 'Loveleen Tandan', 'Abbas Alibhai Burmawalla',\n",
              "       'Anas Khan', 'Sudha Kongara', 'Saurabh Choubey', 'Mohit Suri',\n",
              "       'Swaroop Rsj', 'Rajeev Barnwal', 'Ben Affleck', 'Farah Khan',\n",
              "       'Shoojit Sircar', 'Rakesh Roshan', 'Jonathan Demme',\n",
              "       'Vishnuvardhan', 'Hitesh Kewalya', 'Anubhav Sinha', 'Pandiraj',\n",
              "       'Ben Sombogaart', 'Chad Stahelski', 'Kamal K.M.', 'Rohit Shetty',\n",
              "       'Rob Reiner', 'Rajesh Krishnan', 'David Yarovesky',\n",
              "       'Quentin Tarantino', 'Venkat Ramji', 'Lokesh Kanagaraj',\n",
              "       'Taika Waititi', 'Karthik Subbaraj', 'Madonne Ashwin',\n",
              "       'Jeymes Samuel', 'Prashanth Neel', 'Mani Ratnam',\n",
              "       'Cibi Chakravarthi', 'Midhun Manuel Thomas', 'Sam Mendes',\n",
              "       'Hernán Jiménez', 'Digpal Lanjekar', 'Sriram Raghavan',\n",
              "       'Anil Ravipudi', 'Steven Spielberg', 'H. Vinoth',\n",
              "       'Vivek Agnihotri', 'Dexter Fletcher', 'Srijit Mukherji',\n",
              "       'Jon Watts', 'Rajesh Bhatia', 'Prasad Oak', 'Rajkumar Santoshi',\n",
              "       'Darling Krishna', 'Mahesh Narayanan', 'Imtiaz Ali',\n",
              "       'Robert Zemeckis', 'Sooraj R. Barjatya', 'Venky Atluri',\n",
              "       'Haruo Sotozaki', 'Rakeysh Omprakash Mehra', 'Aziz Mirza',\n",
              "       'Frank Darabont', 'Todd Phillips', 'Venky Kudumula',\n",
              "       'Richard Linklater', 'Ranjit Tewari', 'Adam McKay',\n",
              "       'Aditya Chopra', 'Nelson Dilipkumar', 'Anudeep K.V.',\n",
              "       'Martin Scorsese', 'Sameer Vidwans', 'Sachy', 'Michael Mann',\n",
              "       'Vineeth Sreenivasan', 'Shiva Nirvana',\n",
              "       'Mohana Krishna Indraganti', 'David Fincher', 'Nishanth Kalidindi',\n",
              "       'Sabir Khan', 'Priyadarshan Jadhav', 'Ajay Devgn', 'Manu Anand',\n",
              "       'Ritesh Rana', 'Bryan Singer', 'Sailesh Kolanu', 'Kedar Shinde',\n",
              "       'Pavel Navageethan', 'Steven Soderbergh', 'Satish Kaushik',\n",
              "       'Ruben Fleischer', 'Pa. Ranjith', 'Mari Selvaraj',\n",
              "       'Denis Villeneuve', 'Martin Prakkat', 'Ethan Coen',\n",
              "       'Sudhi Maddison', 'A.R. Murugadoss', 'Roland Emmerich',\n",
              "       'Patrick Hughes', 'Mira Nair', 'Priyadarshan', 'Bommarillu Baskar',\n",
              "       'Gregory Hoblit', 'Stephen Herek', 'Ashwani Dhir',\n",
              "       'Boyapati Srinu', 'Abhishek Jain', 'Dan Trachtenberg',\n",
              "       'Rajkumar Hirani', 'Sohail Khan', 'Karan Johar', 'Milind Ukey',\n",
              "       'Curtis Hanson', 'Tom Shadyac', 'Raj B. Shetty', 'F. Gary Gray',\n",
              "       'Anurag Basu', 'Anup Bhandari', 'James Cameron', 'Peter Weir',\n",
              "       'Stanley Kubrick', 'Peter Jackson', 'Scott Derrickson',\n",
              "       'Umesh Vinayak Kulkarni', 'Kunal Deshmukh', 'Neil Burger',\n",
              "       'Wilson Yip', 'Jon Favreau', 'Abhishek Kapoor', 'Jeethu Joseph',\n",
              "       'Parasuram', 'Noam Murro', 'Honey Trehan', 'Khalid Rahman',\n",
              "       'David Leitch', 'Anurag Kashyap', 'Nishikant Kamat',\n",
              "       'Vishal Bhardwaj', 'Neeraj Pandey', 'Siddharth Anand',\n",
              "       'Jake Kasdan', 'Farhan Akhtar', 'Devanshu Singh', 'Prakash Jha',\n",
              "       'Aditya Sarpotdar', 'Shane Black', 'S. Shankar',\n",
              "       'Bugs Bhargava Krishna', 'Dileesh Pothan', 'Ayan Mukerji',\n",
              "       'Hasith Goli', 'Ramesh Varma', 'Jeo Baby', 'Lilly Wachowski',\n",
              "       'Francis Lawrence', 'Aashiq Abu', 'Rahul Sankrityan',\n",
              "       'Dijo Jose Antony', 'Abhishek Chaubey', 'Christopher Nolan',\n",
              "       'Heavenveer Singh Hayer', 'Vivek Athreya', 'Manu Warrier',\n",
              "       \"Renzil D'Silva\", 'Vijay Lalwani', 'Dennis Dugan',\n",
              "       'Darren Aronofsky', 'Kanishk Varma', 'Deva Katta', 'George Miller',\n",
              "       'Ken Ghosh', 'Milan Luthria', 'Vipul Amrutlal Shah', 'Amal Neerad',\n",
              "       'John Putch', 'Tushar Jalota', 'Ivan Reitman', 'Saagar K Chandra',\n",
              "       'Karthik Rapolu', 'Tim Miller', 'Anees Bazmee', 'Shimit Amin',\n",
              "       'S.S. Rajamouli', 'Mahmood Farooqui', 'Alfonso Cuarón',\n",
              "       'Sam Raimi', 'Daniel Kinnane', 'Harry Bradbeer', 'Janeen Damian',\n",
              "       'Felicity Morris', 'Mallik Ram', 'Seth Gordon', 'T.J. Gnanavel',\n",
              "       'Vasan Bala', 'Guy Ritchie', 'Rishab Shetty', 'Atlee',\n",
              "       'Suresh Triveni', 'Abhinav Sunder Nayak', 'Anirudh Iyer',\n",
              "       'Zoya Akhtar', 'Glenn Ficarra', 'Danish Aslam', 'Zach Cregger',\n",
              "       'Surender Reddy', 'Viju Mane', 'Ravi Jadhav', 'Parmeet Sethi',\n",
              "       'Maneesh Sharma', 'Abhinav Kashyap', 'Tigmanshu Dhulia',\n",
              "       'Fred Savage', 'Abhishek Sharma', 'Atul Kale', 'Will Gluck',\n",
              "       'Paul Weitz', 'Vikramaditya Motwane', 'Larry Charles',\n",
              "       'Anthony Russo', 'Rajeev Patil', \"Remo D'Souza\", 'Punit Malhotra',\n",
              "       'Ashutosh Gowariker', 'Shakun Batra', 'Madhur Bhandarkar',\n",
              "       'Siddique', 'Raj Kumar Gupta', 'Joseph Kosinski', 'Rich Moore',\n",
              "       'Samir Karnik', 'Reema Kagti', 'Espen Sandberg', 'Kathryn Bigelow',\n",
              "       'Sujoy Ghosh', 'Satish Rajwade', 'Ryan Coogler', 'Sujay Dahake',\n",
              "       'Vijay Krishna Acharya', 'Nitesh Tiwari', 'Karan Malhotra',\n",
              "       'Marc Webb', 'Matt Reeves', 'Tom McCarthy', 'Gareth Evans',\n",
              "       'Luv Ranjan', 'Akshat Verma', 'Oriol Paulo', 'James Mangold',\n",
              "       'Ron Howard', 'Alan Taylor', 'Rohit Dhawan', 'Pravin Tarde',\n",
              "       'John Mathew Matthan', 'Tinto Brass', 'James Gunn',\n",
              "       'Puri Jagannadh', 'Dibakar Banerjee', 'Prabhu Deva',\n",
              "       'Morten Tyldum', 'Hanu Raghavapudi', 'Arbaaz Khan',\n",
              "       'Rajesh Mapuskar', 'Gautham Ramachandran', 'Aanand L. Rai',\n",
              "       \"Gavin O'Connor\", 'Homi Adajania', 'Sean Anders',\n",
              "       'Abhishek Varman', 'Yash Chopra', 'Anil Devgan', 'Hansal Mehta',\n",
              "       'Gauri Shinde', 'Kamal Haasan', 'Sanjay Leela Bhansali',\n",
              "       'Anwar Rasheed', 'Aditya Datt', 'David Dhawan', 'Brad Peyton',\n",
              "       'Wes Anderson', 'Umesh Shukla', 'Sanjay Gupta', 'Habib Faisal',\n",
              "       'Santosh Ramdas Manjrekar', 'Sam Taylor-Johnson', 'Ashima Chibber',\n",
              "       'Trivikram Srinivas', 'Mahesh Kothare', 'Ritesh Batra',\n",
              "       'Pawan Kumar', 'Nancy Meyers', 'Shlok Sharma', 'Sukumar',\n",
              "       'Christopher McQuarrie', 'Cary Joji Fukunaga', 'Nikkhil Advani',\n",
              "       'Joss Whedon', 'Chris Columbus', 'Radha Krishna Jagarlamudi',\n",
              "       'Raj Nidimoru', 'Anil Sharma', 'Paresh Mokashi', 'Hayao Miyazaki',\n",
              "       'Khalid Mohamed', 'J.B. Rogers', \"Anthony D'Souza\",\n",
              "       'Damien Chazelle', 'Doug Liman', 'Yûgô Sakô', 'Subhash Kapoor',\n",
              "       'Dilip Ghosh', 'John Francis Daley', 'Susanne Bier',\n",
              "       'Vignesh Raja', 'Joel Gallen', 'Charles Chaplin', 'Matthew Vaughn',\n",
              "       'Mrighdeep Lamba', 'Nagraj Manjule', 'Dan Gilroy', 'Luc Besson',\n",
              "       'Nalan Kumarasamy', 'Rosshan Andrrews', 'Simon McQuoid',\n",
              "       'Rajesh Pillai', 'Omung Kumar', 'Kanu Behl', 'Leena Yadav',\n",
              "       'Sanjay Jadhav', 'Richard Curtis', 'Bejoy Nambiar', 'Kátia Lund',\n",
              "       'Vinil Mathew', 'Vikram Bhatt', 'Gore Verbinski', 'Clint Eastwood',\n",
              "       'Anant Mahadevan', 'Andrew Lau', 'Rahul Dholakia', 'Ketan Mehta',\n",
              "       'Pradeep Sarkar', 'Sharat Katariya', 'Syed Ahmad Afzal',\n",
              "       'Ben Stiller', 'Rajat Kapoor', 'Ridley Scott', 'Anjali Menon',\n",
              "       'Sundar C.', 'Shashank Khaitan', 'Chaitanya Tamhane',\n",
              "       'Paul Greengrass', 'Navdeep Singh', 'Antoine Fuqua',\n",
              "       'Oliver Stone', 'Kunal Kohli', 'Martin Campbell',\n",
              "       'Samruoddhi Porey', 'Adhiraj Bose', 'Kabir Khan',\n",
              "       'Chandoo Mondeti', 'Edgar Wright', 'Vinay Shukla', 'Terry George',\n",
              "       'Frank Miller', 'Abhijit Panse', 'K.S. Ravikumar',\n",
              "       'Michael Winterbottom', 'Shubzz', 'Anna Boden', 'Fede Alvarez',\n",
              "       'Zack Snyder', 'Mathur Goswami', 'Clement Virgo', 'Neeraj Vora',\n",
              "       'Gautham Vasudev Menon', 'Ganesh Kadam', 'Harshavardhan Kulkarni',\n",
              "       'James McTeigue', 'Victor Salva', 'Raja Menon', 'Sanjay Gadhvi',\n",
              "       'Sachin Kundalkar', 'James Foley', 'David F. Sandberg',\n",
              "       'Peter Berg', 'P. Vasu', 'Nagesh Kukunoor', 'Ang Lee', 'Tom Ford',\n",
              "       'Prakash Kunte', 'Joe Johnston', 'Bob Persichetti',\n",
              "       'Neeraj Ghaywan', 'Alphonse Puthren', 'Sunny Deol',\n",
              "       'Ram Gopal Varma', 'Abbas Tyrewala', 'R. Balki', 'Peyton Reed',\n",
              "       'Alankrita Shrivastava', 'Ribhu Dasgupta', 'Anu Menon',\n",
              "       'Ali Abbas Zafar', 'Ashwini Chaudhary', 'Greta Gerwig',\n",
              "       'Meghna Gulzar', 'Chandra Prakash Dwivedi', 'Barry Jenkins',\n",
              "       'Vikram K. Kumar', 'Venkat Prabhu', 'Mohan Raja', 'Vetrimaaran',\n",
              "       'Ashwiny Iyer Tiwari', 'Sidney Lumet', 'Jordan Peele',\n",
              "       'Krishnadev Yagnik', 'Tinu Suresh Desai', 'Siva', 'Subodh Bhave',\n",
              "       'Ram Madhvani', 'Makoto Shinkai', 'Mahesh Manjrekar',\n",
              "       'Sameer Patil', 'Mudassar Aziz', 'Ravikanth Perepu',\n",
              "       'Aniruddha Roy Chowdhury', 'Gopi Puthran', 'Ravi Udyawar',\n",
              "       'Saket Chaudhary', 'Shree Narayan Singh', 'Soumendra Padhi',\n",
              "       'Shirish Kunder', 'Shashanka Ghosh', 'Arun Prabhu Purushothaman',\n",
              "       'Koratala Siva', 'Musa Muhammed Olayinka', 'Mikhil Musale',\n",
              "       'Girish Kulkarni', 'Pushkar', 'Shivam Nair', 'R. Ajay Gnanamuthu',\n",
              "       'Ric Roman Waugh', 'Bharathan', 'Rodo Sayagues', 'Vi Anand',\n",
              "       'Shawn Levy', 'Anurag Singh', 'Sankalp Reddy', 'Abish Mathew',\n",
              "       'Karthick Naren', 'Jay Roach', 'Jason Orley', 'Amit Masurkar',\n",
              "       'John Krasinski', 'Abhay Chopra', 'Daniel Kwan', 'Kushan Nandy',\n",
              "       'Ashok G.', 'Bong Joon Ho', 'Feroz Khan Bollybrothers',\n",
              "       'Sizil Srivastava', 'Siddharth Vasani', 'Sujeeth',\n",
              "       'Francis Ford Coppola', 'David Kerr', 'R.S. Prasanna',\n",
              "       'Abhinay Deo', 'C. Prem Kumar', 'Thiagarajan Kumararaja',\n",
              "       'Angshuman Ghosh', 'Srinath Rajendran', 'Ram Kumar', 'Andy Serkis',\n",
              "       'Patty Jenkins', 'Varun Narvekar', 'P.S. Mithran', 'Mysskin',\n",
              "       'Basil Joseph', 'Sandeep Reddy Vanga', 'K. Madhu', 'Ruben Östlund',\n",
              "       'Ramesh Sippy', 'Ratnaa Sinha', 'Christian Schwochow',\n",
              "       'Vikas Bahl', 'Jake Szymanski', 'Lakshya Raj Anand', 'Indra Kumar',\n",
              "       'Kenneth Branagh', 'Aneesh Chaganty', 'Shaad Ali', 'Cathy Yan',\n",
              "       'Amit Ravindernath Sharma', 'Sashi Kiran Tikka', 'Ari Aster',\n",
              "       'Prasanth Varma', 'Magizh Thirumeni', 'Matt Brown',\n",
              "       'Ilya Naishuller', 'Akarsh Khurana', 'Hrishikesh Mukherjee',\n",
              "       'Rawson Marshall Thurber', 'Sachin Ravi', 'Louis Leterrier',\n",
              "       'Desingh Periyasamy', 'Sajid Khan', 'Joe Nussbaum', 'Michael Bay',\n",
              "       'Amar Kaushik', 'Om Raut', 'Apoorva Lakhia', 'Suresh Krishna',\n",
              "       'Ajay Bahl', 'Dipesh Shah', 'Galder Gaztelu-Urrutia',\n",
              "       'Anand Gandhi', 'Sathyan Anthikad', 'Aditya Dhar',\n",
              "       'Vamshi Paidipally', 'M.G. Srinivas', 'Madhu C. Narayanan',\n",
              "       'Tharun Bhascker Dhaassyam', 'Raj Mehta', 'Robbie Grewal',\n",
              "       'M. Padmakumar', 'Akiv Ali', 'Ajay Bhupathi', 'Jaume Collet-Serra',\n",
              "       'Lin-Manuel Miranda', 'Lijo Jose Pellissery', 'Nitin Kakkar',\n",
              "       'Laxman Utekar', 'Rian Johnson', 'Gowtam Tinnanuri',\n",
              "       'K.K. Radhakrishna Kumar', 'Jude Anthany Joseph', 'Andrew Stanton',\n",
              "       'Tony Scott', 'Raaj Shaandilyaa', 'Jagan Shakti', 'Madhavan',\n",
              "       'Destin Daniel Cretton', 'Olivia Newman', 'Andrew Waller',\n",
              "       'Jérémy Clapin', 'Aman Ullah', 'Sanjay M. Khanduri'], dtype=object)"
            ]
          },
          "metadata": {},
          "execution_count": 209
        }
      ]
    },
    {
      "cell_type": "code",
      "source": [
        "imdb1 = imdb[imdb['Directors'] != 'Not Available']    #creating a copy of the data with a condition that directors column has a name"
      ],
      "metadata": {
        "id": "2oPMsw35QySD"
      },
      "execution_count": null,
      "outputs": []
    },
    {
      "cell_type": "code",
      "source": [
        "imdb1['Directors'].value_counts()   #Records the most frequent occurence"
      ],
      "metadata": {
        "colab": {
          "base_uri": "https://localhost:8080/"
        },
        "id": "apbTnN0Sefq-",
        "outputId": "40b1925f-10b7-4135-f8f6-bf3f2afbff9b"
      },
      "execution_count": null,
      "outputs": [
        {
          "output_type": "execute_result",
          "data": {
            "text/plain": [
              "Rohit Shetty             12\n",
              "Priyadarshan             11\n",
              "Christopher Nolan         9\n",
              "Anees Bazmee              8\n",
              "Anurag Kashyap            8\n",
              "                         ..\n",
              "Marc Webb                 1\n",
              "Karan Malhotra            1\n",
              "Vijay Krishna Acharya     1\n",
              "Sujay Dahake              1\n",
              "Sanjay M. Khanduri        1\n",
              "Name: Directors, Length: 544, dtype: int64"
            ]
          },
          "metadata": {},
          "execution_count": 211
        }
      ]
    },
    {
      "cell_type": "code",
      "source": [
        "final = imdb1['Directors'].value_counts()[:5]   #storing first 5 records from the above result"
      ],
      "metadata": {
        "id": "-4bT8Z2eWLQF"
      },
      "execution_count": null,
      "outputs": []
    },
    {
      "cell_type": "code",
      "source": [
        "sns.set(rc={'figure.figsize':(15,5)})\n",
        "ax = sns.barplot(x=final.index, y=final.values)\n",
        "for bars in ax.containers:\n",
        "    ax.bar_label(bars)"
      ],
      "metadata": {
        "colab": {
          "base_uri": "https://localhost:8080/",
          "height": 381
        },
        "id": "YTo3BC8JdZ8o",
        "outputId": "afee9b5c-4cba-4071-ed67-11a5218e16cc"
      },
      "execution_count": null,
      "outputs": [
        {
          "output_type": "display_data",
          "data": {
            "text/plain": [
              "<Figure size 1500x500 with 1 Axes>"
            ],
            "image/png": "[encoded data removed]"
          },
          "metadata": {}
        }
      ]
    },
    {
      "cell_type": "markdown",
      "source": [
        "**Above barplot reveals the 5 directors whose titles were rated the most. Rohit Shetty is the most preferred director**"
      ],
      "metadata": {
        "id": "cu8k50HZZTLU"
      }
    },
    {
      "cell_type": "code",
      "source": [
        "year_of_release = imdb['Year'].value_counts()[:5]   #calculated number of titles released in a year and takes the top 5 years in terms of number"
      ],
      "metadata": {
        "id": "L-PH4zk26gXm"
      },
      "execution_count": null,
      "outputs": []
    },
    {
      "cell_type": "code",
      "source": [
        "sns.set(rc={'figure.figsize':(15,5)})\n",
        "ax = sns.barplot(x=year_of_release.index, y=year_of_release.values)\n",
        "for bars in ax.containers:\n",
        "    ax.bar_label(bars)"
      ],
      "metadata": {
        "colab": {
          "base_uri": "https://localhost:8080/",
          "height": 381
        },
        "id": "mMbrh6xy6l9w",
        "outputId": "f0d9eac8-f65e-466a-f544-47a8649d060d"
      },
      "execution_count": null,
      "outputs": [
        {
          "output_type": "display_data",
          "data": {
            "text/plain": [
              "<Figure size 1500x500 with 1 Axes>"
            ],
            "image/png": "[encoded data removed]"
          },
          "metadata": {}
        }
      ]
    },
    {
      "cell_type": "markdown",
      "source": [
        "**Above barplot reveals that most titles were released in 2021 (87)**"
      ],
      "metadata": {
        "id": "ymH8kSX_Z98l"
      }
    },
    {
      "cell_type": "code",
      "source": [
        "imdb['Genres'].unique()   #Genres column has multiple entries separated by commas"
      ],
      "metadata": {
        "colab": {
          "base_uri": "https://localhost:8080/"
        },
        "id": "hXE3S-h6F98l",
        "outputId": "474ea901-3d14-44de-9b42-6c4e5fcaa526"
      },
      "execution_count": null,
      "outputs": [
        {
          "output_type": "execute_result",
          "data": {
            "text/plain": [
              "array(['Drama', 'Crime, Drama, Romance',\n",
              "       'Crime, Drama, Mystery, Thriller', 'Crime, Drama, Mystery',\n",
              "       'Action, Adventure, Crime, Mystery, Sci-Fi',\n",
              "       'Action, Crime, Drama, Mystery, Thriller', 'Comedy',\n",
              "       'Crime, Mystery, Thriller', 'Action, Drama',\n",
              "       'Action, Crime, Drama, Romance, Thriller',\n",
              "       'Comedy, Crime, Mystery, Thriller', 'Crime, Drama, Thriller',\n",
              "       'Action, Adventure, Fantasy', 'Biography, Drama, Thriller',\n",
              "       'Action, Comedy, Drama, Fantasy, Musical, Romance, Thriller',\n",
              "       'Biography, Crime, Drama, History', 'Action, Adventure, Sci-Fi',\n",
              "       'Action, Biography, Drama, War', 'Comedy, Crime, Romance',\n",
              "       'Comedy, Drama', 'Action, Crime, Drama, Thriller',\n",
              "       'Action, Crime, Thriller', 'Action, Comedy, Mystery, Thriller',\n",
              "       'Drama, Thriller', 'Comedy, Crime',\n",
              "       'Family, Fantasy, Horror, Mystery', 'Crime, Thriller',\n",
              "       'Action, Adventure, Comedy, Fantasy, Romance, Sci-Fi',\n",
              "       'Action, Drama, Western', 'Action, Adventure, Drama',\n",
              "       'Comedy, Drama, Romance', 'Action, Adventure, Thriller',\n",
              "       'Comedy, Romance', 'Action, Drama, History',\n",
              "       'Action, Comedy, Drama', 'Biography, Drama, History',\n",
              "       'Adventure, Biography, Comedy, Drama, History, Sport',\n",
              "       'Action, Drama, History, Mystery', 'Adventure, Comedy, Romance',\n",
              "       'Action, Adventure, Fantasy, Sci-Fi', 'History',\n",
              "       'Action, Comedy, Romance', 'Drama, Romance',\n",
              "       'Action, Biography, Crime, Drama, Thriller',\n",
              "       'Comedy, Drama, Sport', 'Comedy, Drama, Musical, Romance',\n",
              "       'Animation, Action, Adventure, Fantasy, Thriller',\n",
              "       'Action, Drama, Sport', 'Crime, Drama', 'Action',\n",
              "       'Animation, Action, Adventure, Drama, Fantasy, Sci-Fi',\n",
              "       'Action, Adventure, Drama, Fantasy, Romance', 'Action, Thriller',\n",
              "       'Comedy, Drama, Sci-Fi', 'Mystery, Thriller',\n",
              "       'Action, Drama, Thriller', 'Action, Crime, Drama',\n",
              "       'Action, Comedy, Crime, Mystery, Thriller',\n",
              "       'Drama, Musical, Romance', 'Comedy, Crime, Drama',\n",
              "       'Comedy, Crime, Thriller', 'Comedy, Family, Fantasy',\n",
              "       'Action, Drama, Musical, Romance, Thriller',\n",
              "       'Action, Comedy, Horror', 'Action, Adventure, Drama, Sci-Fi',\n",
              "       'Action, Drama, Mystery, Romance, Thriller',\n",
              "       'Action, Adventure, Comedy, Thriller',\n",
              "       'Crime, Drama, History, Romance',\n",
              "       'Comedy, Drama, Fantasy, Romance', 'Comedy, Drama, Music, Romance',\n",
              "       'Action, Adventure, Drama, Horror, Sci-Fi, Thriller',\n",
              "       'Adventure, Drama, Romance',\n",
              "       'Action, Comedy, Crime, Drama, Sci-Fi', 'Drama, Family',\n",
              "       'Comedy, Fantasy', 'Mystery', 'Action, Drama, Romance, Thriller',\n",
              "       'Drama, Mystery, Thriller', 'Action, Adventure, Drama, Fantasy',\n",
              "       'Sci-Fi, Thriller', 'Action, Sci-Fi', 'Drama, Music',\n",
              "       'Biography, Crime, Drama, Thriller',\n",
              "       'Action, Comedy, Musical, Romance', 'Action, Drama, War',\n",
              "       'Action, Comedy, Crime', 'Action, Comedy, Thriller',\n",
              "       'Biography, Drama', 'Comedy, Drama, Horror',\n",
              "       'Action, Sci-Fi, Thriller',\n",
              "       'Action, Adventure, Comedy, Crime, Fantasy, Sci-Fi',\n",
              "       'Adventure, Comedy, Drama, Family, Fantasy',\n",
              "       'Horror, Mystery, Romance, Thriller',\n",
              "       'Action, Comedy, Crime, Drama', 'Comedy, Crime, Fantasy, Mystery',\n",
              "       'Comedy, Drama, Romance, Thriller', 'Thriller',\n",
              "       'Drama, Mystery, Romance, Thriller',\n",
              "       'Action, Adventure, Sci-Fi, Thriller', 'Comedy, Drama, Music',\n",
              "       'Action, Crime, Drama, Romance', 'Comedy, Romance, Sci-Fi',\n",
              "       'Action, Drama, Fantasy, Horror, Sci-Fi, Thriller',\n",
              "       'Action, Comedy', 'Action, Comedy, Drama, Musical',\n",
              "       'Action, Drama, Fantasy, Romance', 'Drama, Sci-Fi, Thriller',\n",
              "       'Comedy, Sport', 'Action, Adventure, Crime, Drama, Mystery',\n",
              "       'Action, Adventure', 'Action, Drama, History, Thriller',\n",
              "       'Drama, Horror, Mystery, Thriller', 'Documentary, Crime',\n",
              "       'Romance, Sci-Fi', 'Action, Comedy, Drama, Thriller',\n",
              "       'Comedy, Crime, Drama, Thriller', 'Action, Adventure, Mystery',\n",
              "       'Action, Adventure, Drama, Thriller',\n",
              "       'Action, Comedy, Crime, Thriller',\n",
              "       'Adventure, Crime, Mystery, Thriller', 'Horror, Mystery, Thriller',\n",
              "       'Action, Biography, Crime, Sport, Thriller',\n",
              "       'Comedy, Drama, Family', 'Action, Adventure, Comedy',\n",
              "       'Drama, Musical, Sport', 'Action, Comedy, Drama, Romance',\n",
              "       'Animation, Adventure, Comedy, Family, Fantasy, Sci-Fi',\n",
              "       'Drama, History, Thriller, War', 'Action, Comedy, Fantasy, Horror',\n",
              "       'Action, Crime, Mystery, Sci-Fi, Thriller', 'Romance',\n",
              "       'Drama, Music, Romance', 'Drama, Western',\n",
              "       'Biography, Crime, Drama',\n",
              "       'Action, Crime, Drama, Horror, Thriller',\n",
              "       'Action, Biography, Drama, Sport',\n",
              "       'Action, Comedy, Crime, Drama, Thriller',\n",
              "       'Comedy, Crime, Drama, Romance',\n",
              "       'Action, Adventure, Comedy, Sci-Fi',\n",
              "       'Biography, Drama, Thriller, War',\n",
              "       'Action, Drama, Mystery, Romance', 'Comedy, Drama, Family, Sport',\n",
              "       'Comedy, Drama, Music, Romance, Sport',\n",
              "       'Action, Adventure, Crime, Drama, Mystery, Sci-Fi',\n",
              "       'Drama, Music, Musical, Romance', 'Drama, Sport',\n",
              "       'Adventure, Drama, Thriller', 'Action, Comedy, Drama, Fantasy',\n",
              "       'Adventure, Comedy, Crime', 'Comedy, Drama, Fantasy',\n",
              "       'Action, Biography, Crime',\n",
              "       'Action, Drama, Romance, Sci-Fi, Thriller',\n",
              "       'Action, Drama, Romance', 'Drama, Romance, Thriller',\n",
              "       'Comedy, Drama, Horror, Mystery',\n",
              "       'Action, Musical, Romance, Thriller', 'Biography, Drama, Sport',\n",
              "       'Family', 'Adventure, Family, Fantasy',\n",
              "       'Action, Adventure, Comedy, Horror, Sci-Fi',\n",
              "       'Comedy, Drama, Thriller',\n",
              "       'Animation, Adventure, Family, Fantasy, Mystery',\n",
              "       'Crime, Drama, Romance, Thriller',\n",
              "       'Action, Drama, Romance, Sci-Fi', 'Action, Mystery, Thriller',\n",
              "       'Animation, Action, Adventure, Drama, Fantasy, Musical, Romance',\n",
              "       'Action, Adventure, Comedy, Crime, Thriller',\n",
              "       'Horror, Mystery, Sci-Fi',\n",
              "       'Action, Adventure, Comedy, Musical, Romance, Thriller',\n",
              "       'Action, Adventure, Fantasy, Sci-Fi, Thriller',\n",
              "       'Animation, Adventure, Comedy, Crime, Family, Mystery',\n",
              "       'Animation, Adventure, Drama, Family, Fantasy',\n",
              "       'Action, Adventure, Crime, Drama, Mystery, Thriller',\n",
              "       'Action, Drama, Romance, War', 'History, News', 'Musical, Romance',\n",
              "       'Action, Crime, Drama, Fantasy, Sci-Fi, Thriller',\n",
              "       'Comedy, Fantasy, Romance',\n",
              "       'Crime, Drama, Mystery, Thriller, Western',\n",
              "       'Action, Comedy, Drama, Musical, Romance, Thriller',\n",
              "       'Action, Adventure, Comedy, Fantasy, Sci-Fi',\n",
              "       'Adventure, Comedy, Drama, Fantasy, Romance',\n",
              "       'Adventure, Drama, War', 'Adventure, Drama, Sci-Fi',\n",
              "       'Drama, Musical', 'Adventure, Comedy, Drama',\n",
              "       'Action, Drama, History, Romance, War',\n",
              "       'Comedy, Drama, Music, Musical, Romance', 'Short, Drama, Romance',\n",
              "       'Action, Adventure, Drama, History',\n",
              "       'Action, Adventure, Comedy, Drama', 'Action, Crime, Drama, Music',\n",
              "       'Documentary, Thriller', 'Biography, Drama, History, War',\n",
              "       'Action, Crime, Drama, History', 'Drama, Mystery',\n",
              "       'Action, Adventure, Comedy, Musical, Mystery',\n",
              "       'Crime, Horror, Thriller', 'Drama, History',\n",
              "       'Action, Drama, Sci-Fi, Thriller', 'Drama, Romance, Sport',\n",
              "       'Action, Adventure, Comedy, Fantasy',\n",
              "       'Action, Comedy, Drama, Fantasy, Horror, Mystery',\n",
              "       'Adventure, Drama, Fantasy',\n",
              "       'Drama, Fantasy, Horror, Mystery, Sci-Fi, Thriller',\n",
              "       'Animation, Action, Adventure, Comedy, Family, Fantasy, Sci-Fi',\n",
              "       'Action, Adventure, Comedy, Crime, Musical',\n",
              "       'Action, Comedy, Sci-Fi',\n",
              "       'Action, Adventure, Drama, Sci-Fi, Thriller',\n",
              "       'Drama, Mystery, Sci-Fi, Thriller',\n",
              "       'Action, Drama, Romance, Sport', 'Action, Romance, Thriller',\n",
              "       'Comedy, Musical', 'Comedy, Drama, Family, Romance',\n",
              "       'Action, Comedy, Drama, Musical, Sci-Fi, Thriller',\n",
              "       'Action, Drama, History, Thriller, War', 'Musical',\n",
              "       'Animation, Drama, Fantasy, Romance',\n",
              "       'Crime, Horror, Mystery, Thriller',\n",
              "       'Crime, Drama, Mystery, Sci-Fi, Thriller',\n",
              "       'Short, Mystery, Thriller', 'Drama, History, Romance, War',\n",
              "       'Drama, History, Sport', 'Short, Comedy, Drama',\n",
              "       'Action, Crime, Horror, Thriller',\n",
              "       'Comedy, Fantasy, Romance, Thriller', 'Action, Thriller, War',\n",
              "       'Biography, Comedy, Drama', 'Action, Drama, Horror, Thriller',\n",
              "       'Drama, Horror, Sci-Fi', 'Action, Horror, Thriller',\n",
              "       'Biography, History, Mystery, Thriller', 'Comedy, Thriller',\n",
              "       'Action, Biography, Crime, Drama', 'Biography, Crime, Thriller',\n",
              "       'Comedy, Family', 'Action, Comedy, Drama, Sport',\n",
              "       'Action, Comedy, Drama, Fantasy, Sci-Fi',\n",
              "       'Drama, History, Thriller',\n",
              "       'Action, Adventure, Comedy, Drama, Musical, Thriller, Western',\n",
              "       'Action, Crime, Mystery, Thriller',\n",
              "       'Biography, Drama, History, Thriller',\n",
              "       'Biography, Drama, History, Sport',\n",
              "       'Action, Adventure, Comedy, Drama, Fantasy', 'Action, Fantasy',\n",
              "       'Comedy, Drama, Mystery, Thriller',\n",
              "       'Action, Crime, Drama, Western', 'Comedy, Horror',\n",
              "       'Action, Biography, Drama, History', 'Action, Crime, History',\n",
              "       'Drama, Horror', 'Horror, Sci-Fi, Thriller',\n",
              "       'Drama, Fantasy, Horror, Thriller', 'Comedy, Mystery, Romance',\n",
              "       'Action, Drama, History, War', 'Drama, Family, Sport',\n",
              "       'Biography, Comedy, Drama, Musical',\n",
              "       'Animation, Crime, Drama, Fantasy, Mystery, Thriller',\n",
              "       'Action, Crime, Drama, History, Thriller',\n",
              "       'Adventure, Comedy, Sci-Fi',\n",
              "       'Comedy, Crime, Drama, Mystery, Thriller',\n",
              "       'Animation, Adventure, Family, Sci-Fi',\n",
              "       'Action, Comedy, Drama, Fantasy, Mystery, Romance, Sci-Fi',\n",
              "       'Action, Adventure, Fantasy, Horror, Sci-Fi',\n",
              "       'Action, Biography, Drama, Thriller',\n",
              "       'Action, Adventure, Crime, Thriller',\n",
              "       'Biography, Comedy, Crime, Drama',\n",
              "       'Comedy, Horror, Mystery, Thriller',\n",
              "       'Adventure, Comedy, Crime, Drama'], dtype=object)"
            ]
          },
          "metadata": {},
          "execution_count": 223
        }
      ]
    },
    {
      "cell_type": "code",
      "source": [
        "def extract_one_genre(genres):    #to get the first genre\n",
        "  gen = genres.split(',', 1)[0]\n",
        "  return gen"
      ],
      "metadata": {
        "id": "ZqOFPc7IF_zg"
      },
      "execution_count": null,
      "outputs": []
    },
    {
      "cell_type": "code",
      "source": [
        "imdb['Genres'] = imdb['Genres'].apply(extract_one_genre)  #applying the above function"
      ],
      "metadata": {
        "id": "J0jZG_mRIdWA"
      },
      "execution_count": null,
      "outputs": []
    },
    {
      "cell_type": "code",
      "source": [
        "imdb['Genres'].unique()"
      ],
      "metadata": {
        "colab": {
          "base_uri": "https://localhost:8080/"
        },
        "id": "LdnLf5StIjvz",
        "outputId": "65f41ffc-a493-4a0c-c213-5bff0c091593"
      },
      "execution_count": null,
      "outputs": [
        {
          "output_type": "execute_result",
          "data": {
            "text/plain": [
              "array(['Drama', 'Crime', 'Action', 'Comedy', 'Biography', 'Family',\n",
              "       'Adventure', 'History', 'Animation', 'Mystery', 'Sci-Fi', 'Horror',\n",
              "       'Thriller', 'Documentary', 'Romance', 'Musical', 'Short'],\n",
              "      dtype=object)"
            ]
          },
          "metadata": {},
          "execution_count": 226
        }
      ]
    },
    {
      "cell_type": "code",
      "source": [
        "most_rated_genres = imdb['Genres'].value_counts()[:5]   #recording the top 5 genres"
      ],
      "metadata": {
        "id": "fqmmLeRnIzJW"
      },
      "execution_count": null,
      "outputs": []
    },
    {
      "cell_type": "code",
      "source": [
        "sns.set(rc={'figure.figsize':(15,5)})\n",
        "ax = sns.barplot(x=most_rated_genres.index, y=most_rated_genres.values)\n",
        "for bars in ax.containers:\n",
        "    ax.bar_label(bars)"
      ],
      "metadata": {
        "colab": {
          "base_uri": "https://localhost:8080/",
          "height": 378
        },
        "id": "7vYImNg8I6SG",
        "outputId": "c93a3169-b682-47da-cee6-ba07fb571b99"
      },
      "execution_count": null,
      "outputs": [
        {
          "output_type": "display_data",
          "data": {
            "text/plain": [
              "<Figure size 1500x500 with 1 Axes>"
            ],
            "image/png": "[encoded data removed]"
          },
          "metadata": {}
        }
      ]
    },
    {
      "cell_type": "markdown",
      "source": [
        "**Above plot shows that Action titles were the most preferred media. It's consistent with the pattern of most favourite directors, as 2 of the top 5 directors (Rohit Shetty & Anees Bazmee) make Action movies. Comedy titles being the second most favourite type is justified, as above two directors and Priyadarshan make comedy movies.**"
      ],
      "metadata": {
        "id": "FAtu5ad_a2Au"
      }
    },
    {
      "cell_type": "markdown",
      "source": [
        "Conclusion of the above EDA\n",
        "1. movies are the preferred type of titles watched\n",
        "2. most of the titles were rated in September 2016\n",
        "3. Rohit Shetty is the favourite director, and action titles were rated the most\n",
        "4. on average, it takes 3 days to watch one title.\n",
        "5. most of the titles rated were released in 2021"
      ],
      "metadata": {
        "id": "tZ8Prs0Ybg0Q"
      }
    }
  ]
}